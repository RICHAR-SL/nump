{
  "nbformat": 4,
  "nbformat_minor": 0,
  "metadata": {
    "colab": {
      "provenance": [],
      "include_colab_link": true
    },
    "kernelspec": {
      "name": "python3",
      "display_name": "Python 3"
    },
    "language_info": {
      "name": "python"
    }
  },
  "cells": [
    {
      "cell_type": "markdown",
      "metadata": {
        "id": "view-in-github",
        "colab_type": "text"
      },
      "source": [
        "<a href=\"https://colab.research.google.com/github/RICHAR-SL/nump/blob/main/ejercicio1.ipynb\" target=\"_parent\"><img src=\"https://colab.research.google.com/assets/colab-badge.svg\" alt=\"Open In Colab\"/></a>"
      ]
    },
    {
      "cell_type": "code",
      "execution_count": null,
      "metadata": {
        "id": "d_QLQ7Emtc1P"
      },
      "outputs": [],
      "source": []
    },
    {
      "cell_type": "markdown",
      "source": [
        "numpy, ciencia de datos"
      ],
      "metadata": {
        "id": "sAGapr9huHfj"
      }
    },
    {
      "cell_type": "code",
      "source": [
        "import numpy as np\n"
      ],
      "metadata": {
        "id": "HgE2EqJjuiHC"
      },
      "execution_count": 1,
      "outputs": []
    },
    {
      "cell_type": "code",
      "source": [
        "#1 DIMENSION\n",
        "array_1d=np.array([10,20,30])\n",
        "\n",
        "print(\"1 Dimencion\",array_1d)\n",
        "#2 Dimension\n",
        "\n",
        "array_2d=np.array([(1,2,3,4,5,6,7,8,9,10),(-1,-2,-3,-4,-5,-6,-7,-8,-9,-10)])\n",
        "\n",
        "print(\"2 Dimension\", array_2d)\n",
        "\n"
      ],
      "metadata": {
        "colab": {
          "base_uri": "https://localhost:8080/"
        },
        "collapsed": true,
        "id": "SM6UT-AZvqca",
        "outputId": "e7b37724-c6bd-4e83-ce71-7bc98b21ba16"
      },
      "execution_count": 2,
      "outputs": [
        {
          "output_type": "stream",
          "name": "stdout",
          "text": [
            "1 Dimencion [10 20 30]\n",
            "2 Dimension [[  1   2   3   4   5   6   7   8   9  10]\n",
            " [ -1  -2  -3  -4  -5  -6  -7  -8  -9 -10]]\n"
          ]
        }
      ]
    },
    {
      "cell_type": "code",
      "source": [
        "print(\"3 dimension\")\n",
        "array_3d=np.array([(1,2,3),(-1,-2,-3),(8,9,10)],dtype=str)\n"
      ],
      "metadata": {
        "colab": {
          "base_uri": "https://localhost:8080/"
        },
        "id": "H1MWdbyfxwjD",
        "outputId": "c7442a57-ca0b-4deb-9f33-e15c8530f30a"
      },
      "execution_count": 3,
      "outputs": [
        {
          "output_type": "stream",
          "name": "stdout",
          "text": [
            "3 dimension\n"
          ]
        }
      ]
    },
    {
      "cell_type": "code",
      "source": [
        "print(array_3d)"
      ],
      "metadata": {
        "colab": {
          "base_uri": "https://localhost:8080/"
        },
        "id": "wNwlqjLCzcJV",
        "outputId": "f77445b2-2cd5-48f6-cfe4-a9185e057fdf"
      },
      "execution_count": 4,
      "outputs": [
        {
          "output_type": "stream",
          "name": "stdout",
          "text": [
            "[['1' '2' '3']\n",
            " ['-1' '-2' '-3']\n",
            " ['8' '9' '10']]\n"
          ]
        }
      ]
    },
    {
      "cell_type": "markdown",
      "source": [
        "arrays con ceros tres filas y 4 columnas\n"
      ],
      "metadata": {
        "id": "Z8PNW9Ga4T1D"
      }
    },
    {
      "cell_type": "code",
      "source": [
        "np.zeros((3,4))"
      ],
      "metadata": {
        "colab": {
          "base_uri": "https://localhost:8080/"
        },
        "id": "zbdD0X2K4YbD",
        "outputId": "71466535-c62c-4f42-9303-efba0562c51a"
      },
      "execution_count": 5,
      "outputs": [
        {
          "output_type": "execute_result",
          "data": {
            "text/plain": [
              "array([[0., 0., 0., 0.],\n",
              "       [0., 0., 0., 0.],\n",
              "       [0., 0., 0., 0.]])"
            ]
          },
          "metadata": {},
          "execution_count": 5
        }
      ]
    },
    {
      "cell_type": "code",
      "source": [
        "#dos mineciones\n",
        "np.ones((2,4,5))"
      ],
      "metadata": {
        "colab": {
          "base_uri": "https://localhost:8080/"
        },
        "id": "ef7ieBYr4oSa",
        "outputId": "62f85ead-dd5c-4923-ec5d-557f1d02d913"
      },
      "execution_count": 6,
      "outputs": [
        {
          "output_type": "execute_result",
          "data": {
            "text/plain": [
              "array([[[1., 1., 1., 1., 1.],\n",
              "        [1., 1., 1., 1., 1.],\n",
              "        [1., 1., 1., 1., 1.],\n",
              "        [1., 1., 1., 1., 1.]],\n",
              "\n",
              "       [[1., 1., 1., 1., 1.],\n",
              "        [1., 1., 1., 1., 1.],\n",
              "        [1., 1., 1., 1., 1.],\n",
              "        [1., 1., 1., 1., 1.]]])"
            ]
          },
          "metadata": {},
          "execution_count": 6
        }
      ]
    },
    {
      "cell_type": "markdown",
      "source": [
        "ARRAYS CON INTERVALOS\n"
      ],
      "metadata": {
        "id": "Pw6M6G685VXU"
      }
    },
    {
      "cell_type": "code",
      "source": [
        "np.arange(20,30,40)"
      ],
      "metadata": {
        "colab": {
          "base_uri": "https://localhost:8080/"
        },
        "id": "3FQSngKg5gt7",
        "outputId": "ac8a57ae-7114-456d-a443-ddcb29399cff"
      },
      "execution_count": 7,
      "outputs": [
        {
          "output_type": "execute_result",
          "data": {
            "text/plain": [
              "array([20])"
            ]
          },
          "metadata": {},
          "execution_count": 7
        }
      ]
    },
    {
      "cell_type": "code",
      "source": [
        "np.arange(10,50,2)"
      ],
      "metadata": {
        "colab": {
          "base_uri": "https://localhost:8080/"
        },
        "id": "UjslVvwW5zx7",
        "outputId": "f74bcd05-d9a6-409c-8cd5-cc6b8c235c67"
      },
      "execution_count": 8,
      "outputs": [
        {
          "output_type": "execute_result",
          "data": {
            "text/plain": [
              "array([10, 12, 14, 16, 18, 20, 22, 24, 26, 28, 30, 32, 34, 36, 38, 40, 42,\n",
              "       44, 46, 48])"
            ]
          },
          "metadata": {},
          "execution_count": 8
        }
      ]
    },
    {
      "cell_type": "code",
      "source": [
        "#arrays con intervalos y divisiones\n",
        "np.linspace(0,4,7)"
      ],
      "metadata": {
        "colab": {
          "base_uri": "https://localhost:8080/"
        },
        "id": "UumbXbLv8B1L",
        "outputId": "b04c5ba3-a850-4a57-be34-b5cc378f9e86"
      },
      "execution_count": 9,
      "outputs": [
        {
          "output_type": "execute_result",
          "data": {
            "text/plain": [
              "array([0.        , 0.66666667, 1.33333333, 2.        , 2.66666667,\n",
              "       3.33333333, 4.        ])"
            ]
          },
          "metadata": {},
          "execution_count": 9
        }
      ]
    },
    {
      "cell_type": "code",
      "source": [
        "#arrays con valores dados\n",
        "np.full((3,5),7)"
      ],
      "metadata": {
        "colab": {
          "base_uri": "https://localhost:8080/"
        },
        "id": "H2bqnJV-8nVj",
        "outputId": "51eec75b-3611-40f9-c8e9-4fff4406e202"
      },
      "execution_count": 10,
      "outputs": [
        {
          "output_type": "execute_result",
          "data": {
            "text/plain": [
              "array([[7, 7, 7, 7, 7],\n",
              "       [7, 7, 7, 7, 7],\n",
              "       [7, 7, 7, 7, 7]])"
            ]
          },
          "metadata": {},
          "execution_count": 10
        }
      ]
    },
    {
      "cell_type": "code",
      "source": [
        "#Array matriz identidad, diagonal del unos\n",
        "\n",
        "np.eye(3,3,-2)"
      ],
      "metadata": {
        "colab": {
          "base_uri": "https://localhost:8080/"
        },
        "id": "0FtbDi4887xc",
        "outputId": "319b67a7-6220-4752-8984-0efec6caaa1f"
      },
      "execution_count": 11,
      "outputs": [
        {
          "output_type": "execute_result",
          "data": {
            "text/plain": [
              "array([[0., 0., 0.],\n",
              "       [0., 0., 0.],\n",
              "       [1., 0., 0.]])"
            ]
          },
          "metadata": {},
          "execution_count": 11
        }
      ]
    },
    {
      "cell_type": "code",
      "source": [
        "#array valores aleatorios\n",
        "\n",
        "np.random.random((4,3))"
      ],
      "metadata": {
        "colab": {
          "base_uri": "https://localhost:8080/"
        },
        "id": "YFxES6xb-etu",
        "outputId": "09ce3dfc-fc0a-420f-a7bd-713412df43c2"
      },
      "execution_count": 12,
      "outputs": [
        {
          "output_type": "execute_result",
          "data": {
            "text/plain": [
              "array([[0.96314797, 0.03746454, 0.77623462],\n",
              "       [0.15284365, 0.92153762, 0.7106193 ],\n",
              "       [0.69123094, 0.40492844, 0.25856214],\n",
              "       [0.18440206, 0.02332072, 0.8418274 ]])"
            ]
          },
          "metadata": {},
          "execution_count": 12
        }
      ]
    },
    {
      "cell_type": "code",
      "source": [
        "#arrays de numeros vacios\n",
        "np.empty((4,3))"
      ],
      "metadata": {
        "colab": {
          "base_uri": "https://localhost:8080/"
        },
        "id": "k8fYUxSQ_IrT",
        "outputId": "a40ae3cc-10ee-4f3d-eb06-d4b154a28a16"
      },
      "execution_count": 13,
      "outputs": [
        {
          "output_type": "execute_result",
          "data": {
            "text/plain": [
              "array([[0.96314797, 0.03746454, 0.77623462],\n",
              "       [0.15284365, 0.92153762, 0.7106193 ],\n",
              "       [0.69123094, 0.40492844, 0.25856214],\n",
              "       [0.18440206, 0.02332072, 0.8418274 ]])"
            ]
          },
          "metadata": {},
          "execution_count": 13
        }
      ]
    },
    {
      "cell_type": "code",
      "source": [
        "#Grabar\n",
        "np.save('mi_arrays',np.random.random((3,3)))"
      ],
      "metadata": {
        "id": "HpApeWt9BsRb"
      },
      "execution_count": 14,
      "outputs": []
    },
    {
      "cell_type": "code",
      "source": [
        "#Cargar\n",
        "mi_arrays=np.load('mi_arrays.npy')\n",
        "print(mi_arrays)\n"
      ],
      "metadata": {
        "colab": {
          "base_uri": "https://localhost:8080/"
        },
        "id": "57ItSNZcCUm7",
        "outputId": "be28f7aa-19ab-422a-e66c-a7c0f9870cd7"
      },
      "execution_count": 15,
      "outputs": [
        {
          "output_type": "stream",
          "name": "stdout",
          "text": [
            "[[0.68833199 0.46121165 0.74943783]\n",
            " [0.93537085 0.410448   0.48477171]\n",
            " [0.61939511 0.26852232 0.19842239]]\n"
          ]
        }
      ]
    },
    {
      "cell_type": "code",
      "source": [
        "#Grabar\n",
        "np.save('mi_array_3d',array_3d)\n",
        "#Cargar\n",
        "mi_3d=np.load('mi_array_3d.npy')\n",
        "print(mi_3d)"
      ],
      "metadata": {
        "colab": {
          "base_uri": "https://localhost:8080/"
        },
        "id": "W0lBVkn-EYdu",
        "outputId": "0e1cc4db-788f-4885-8463-cd68a9dc0378"
      },
      "execution_count": 16,
      "outputs": [
        {
          "output_type": "stream",
          "name": "stdout",
          "text": [
            "[['1' '2' '3']\n",
            " ['-1' '-2' '-3']\n",
            " ['8' '9' '10']]\n"
          ]
        }
      ]
    },
    {
      "cell_type": "markdown",
      "source": [
        "Grabar y cargar ficheros de textos\n"
      ],
      "metadata": {
        "id": "hkdeDviCE5Pr"
      }
    },
    {
      "cell_type": "code",
      "source": [
        "#grabar el fichero\n",
        "np.savetxt('hola mundo.txt', array_2d,delimiter=\" \")"
      ],
      "metadata": {
        "id": "SShawiGxE9AL"
      },
      "execution_count": 17,
      "outputs": []
    },
    {
      "cell_type": "code",
      "source": [
        "#cargar el fichero hola mundo\n",
        "np.loadtxt('hola mundo.txt')"
      ],
      "metadata": {
        "colab": {
          "base_uri": "https://localhost:8080/"
        },
        "id": "d-OI7cOUGJIU",
        "outputId": "9994991b-7a07-4f8f-84a3-7a011c7c15c2"
      },
      "execution_count": 18,
      "outputs": [
        {
          "output_type": "execute_result",
          "data": {
            "text/plain": [
              "array([[  1.,   2.,   3.,   4.,   5.,   6.,   7.,   8.,   9.,  10.],\n",
              "       [ -1.,  -2.,  -3.,  -4.,  -5.,  -6.,  -7.,  -8.,  -9., -10.]])"
            ]
          },
          "metadata": {},
          "execution_count": 18
        }
      ]
    },
    {
      "cell_type": "markdown",
      "source": [
        "Ejercicios\n"
      ],
      "metadata": {
        "id": "iTIwnKqLH3sS"
      }
    },
    {
      "cell_type": "markdown",
      "source": [
        "Escribir un programa que almacene las asignaturas de un curso (por ejemplo Matemáticas, Física,\n",
        "Química, Historia y Lengua) en una lista y la muestre por pantalla."
      ],
      "metadata": {
        "id": "Uo8BDqkMH5ur"
      }
    },
    {
      "cell_type": "code",
      "source": [
        "\n",
        "materias=np.array(['Matemárica','Física','Química','Historia','Lenguaje'])\n",
        "#guardar\n",
        "materias=np.save('ejer1',materias)\n"
      ],
      "metadata": {
        "id": "k3L9ibrFH-5j"
      },
      "execution_count": 19,
      "outputs": []
    },
    {
      "cell_type": "code",
      "source": [
        "np.load('ejer1.npy')"
      ],
      "metadata": {
        "colab": {
          "base_uri": "https://localhost:8080/"
        },
        "id": "0jr2KdiPI_l9",
        "outputId": "a51c1765-7788-451d-f67d-33231637cd9a"
      },
      "execution_count": 20,
      "outputs": [
        {
          "output_type": "execute_result",
          "data": {
            "text/plain": [
              "array(['Matemárica', 'Física', 'Química', 'Historia', 'Lenguaje'],\n",
              "      dtype='<U10')"
            ]
          },
          "metadata": {},
          "execution_count": 20
        }
      ]
    },
    {
      "cell_type": "markdown",
      "source": [
        "Ejercicio 2\n",
        "Escribir un programa que almacene las asignaturas de un curso (por ejemplo Matemáticas, Física,\n",
        "Química, Historia y Lengua) en una lista y la muestre por pantalla el mensaje Yo estudio\n",
        "<asignatura>, donde <asignatura> es cada una de las asignaturas de la lista."
      ],
      "metadata": {
        "id": "MOzRpbcYJOXE"
      }
    },
    {
      "cell_type": "markdown",
      "source": [],
      "metadata": {
        "id": "c5WsIvh9K5Jo"
      }
    },
    {
      "cell_type": "code",
      "source": [
        "cursos=np.array(['Matemárica','Física','Química','Historia','Lenguaje'])\n",
        "\n",
        "longitud = len(cursos)\n",
        "print(f\"La longitud de la lista es: {longitud}\")\n",
        "curso_estudio=[]\n",
        "for i in range(longitud):\n",
        "    mensaje = f\"Yo estudio: {cursos[i]}\"\n",
        "    print(mensaje)\n",
        "    curso_estudio.append(mensaje)\n",
        "\n",
        "\n",
        "\n",
        "\n",
        "#guardar\n",
        "cursos=np.save('ejer2',curso_estudio)\n",
        "\n"
      ],
      "metadata": {
        "colab": {
          "base_uri": "https://localhost:8080/"
        },
        "id": "lqeWXQx6JR_8",
        "outputId": "a848e568-4f27-4f3d-a475-e836ffc65f2e"
      },
      "execution_count": 21,
      "outputs": [
        {
          "output_type": "stream",
          "name": "stdout",
          "text": [
            "La longitud de la lista es: 5\n",
            "Yo estudio: Matemárica\n",
            "Yo estudio: Física\n",
            "Yo estudio: Química\n",
            "Yo estudio: Historia\n",
            "Yo estudio: Lenguaje\n"
          ]
        }
      ]
    },
    {
      "cell_type": "code",
      "source": [
        "np.load('ejer2.npy')"
      ],
      "metadata": {
        "colab": {
          "base_uri": "https://localhost:8080/"
        },
        "id": "ZjeRfFoaP-vt",
        "outputId": "c993f834-a8ac-415d-bbc2-e888e7ff1126"
      },
      "execution_count": 22,
      "outputs": [
        {
          "output_type": "execute_result",
          "data": {
            "text/plain": [
              "array(['Yo estudio: Matemárica', 'Yo estudio: Física',\n",
              "       'Yo estudio: Química', 'Yo estudio: Historia',\n",
              "       'Yo estudio: Lenguaje'], dtype='<U22')"
            ]
          },
          "metadata": {},
          "execution_count": 22
        }
      ]
    },
    {
      "cell_type": "markdown",
      "source": [
        "Ejercicio 3\n",
        "Escribir un programa que almacene las asignaturas de un curso (por ejemplo Matemáticas, Física,\n",
        "Química, Historia y Lengua) en una lista, pregunte al usuario la nota que ha sacado en cada\n",
        "asignatura, y después las muestre por pantalla con el mensaje En 'asignatura' has sacado 'nota'\n",
        "donde 'asignatura' es cada una des las asignaturas de la lista y 'nota' cada una de las\n",
        "correspondientes notas introducidas por el usuario."
      ],
      "metadata": {
        "id": "nq8PdkBbQDZK"
      }
    },
    {
      "cell_type": "code",
      "source": [
        "\n",
        "cursos = np.array(['Matemática', 'Física', 'Química', 'Historia', 'Lenguaje'])\n",
        "\n",
        "longitud = len(cursos)\n",
        "notas = []\n",
        "curso_nota = []\n",
        "\n",
        "for i in range(longitud):\n",
        "    mensaje = input(f\"Nota en {cursos[i]}: \")\n",
        "    notas.append(mensaje)\n",
        "\n",
        "for j in range(longitud):\n",
        "    notas_texto = f\"En {cursos[j]} sacaste : {notas[j]}\"\n",
        "    curso_nota.append(notas_texto)\n",
        "\n",
        "#guardar\n",
        "cursos=np.save('ejer3',curso_nota)\n"
      ],
      "metadata": {
        "colab": {
          "base_uri": "https://localhost:8080/"
        },
        "id": "o5jp7OTeQSal",
        "outputId": "c0827c25-a1de-42c8-9a82-0b45c68f7570"
      },
      "execution_count": 23,
      "outputs": [
        {
          "name": "stdout",
          "output_type": "stream",
          "text": [
            "Nota en Matemática: 4\n",
            "Nota en Física: 5\n",
            "Nota en Química: 7\n",
            "Nota en Historia: 8\n",
            "Nota en Lenguaje: 5\n"
          ]
        }
      ]
    },
    {
      "cell_type": "code",
      "source": [
        "#cargar\n",
        "np.load('ejer3.npy')"
      ],
      "metadata": {
        "colab": {
          "base_uri": "https://localhost:8080/"
        },
        "id": "Pu3oRettRNrr",
        "outputId": "ac6979de-8d3e-4f65-9d7d-7d93b4d3e60c"
      },
      "execution_count": 24,
      "outputs": [
        {
          "output_type": "execute_result",
          "data": {
            "text/plain": [
              "array(['En Matemática sacaste : 4', 'En Física sacaste : 5',\n",
              "       'En Química sacaste : 7', 'En Historia sacaste : 8',\n",
              "       'En Lenguaje sacaste : 5'], dtype='<U25')"
            ]
          },
          "metadata": {},
          "execution_count": 24
        }
      ]
    },
    {
      "cell_type": "markdown",
      "source": [
        "Ejercicio 4\n",
        "Escribir un programa que pregunte al usuario los números ganadores de la lotería primitiva, los\n",
        "almacene en una lista y los muestre por pantalla ordenados de menor a mayor."
      ],
      "metadata": {
        "id": "QHUA8c_8VL4q"
      }
    },
    {
      "cell_type": "code",
      "source": [
        "numeros_ganadores = []\n",
        "print(\"Introduce los números ganadores de la lotería primitiva:\")\n",
        "\n",
        "for i in range(6):\n",
        "    while True:\n",
        "            num = int(input(f\"Número {i+1}: \"))\n",
        "            if num < 1 or num > 50:\n",
        "                print(\"Por favor, introduce un número entre 1 y 49.\")\n",
        "            else:\n",
        "                numeros_ganadores.append(num)\n",
        "                break\n",
        "\n",
        "\n",
        "# Ordenar la lista de menor a mayor\n",
        "numeros_ganadores.sort()\n",
        "print(numeros_ganadores)\n",
        "#guardar\n",
        "loteria=np.save('ejer4',numeros_ganadores)\n"
      ],
      "metadata": {
        "id": "CbXAm8VyVO_7",
        "colab": {
          "base_uri": "https://localhost:8080/"
        },
        "outputId": "d4404c90-df42-4094-daf5-ba9175b3e5a6"
      },
      "execution_count": 25,
      "outputs": [
        {
          "output_type": "stream",
          "name": "stdout",
          "text": [
            "Introduce los números ganadores de la lotería primitiva:\n",
            "Número 1: 2\n",
            "Número 2: 1\n",
            "Número 3: 5\n",
            "Número 4: 4\n",
            "Número 5: 8\n",
            "Número 6: 5\n",
            "[1, 2, 4, 5, 5, 8]\n"
          ]
        }
      ]
    },
    {
      "cell_type": "code",
      "source": [
        "#cargar\n",
        "np.load('ejer4.npy')"
      ],
      "metadata": {
        "id": "xVWh_gfpWhPc",
        "colab": {
          "base_uri": "https://localhost:8080/"
        },
        "outputId": "28ec2823-0f48-4df6-9527-61f6ac4f164c"
      },
      "execution_count": 26,
      "outputs": [
        {
          "output_type": "execute_result",
          "data": {
            "text/plain": [
              "array([1, 2, 4, 5, 5, 8])"
            ]
          },
          "metadata": {},
          "execution_count": 26
        }
      ]
    },
    {
      "cell_type": "markdown",
      "source": [
        "Ejercicio 5\n",
        "Escribir un programa que almacene en una lista los números del 1 al 10 y los muestre por pantalla\n",
        "en orden inverso separados por comas.\n"
      ],
      "metadata": {
        "id": "BO0EZ4c3XEUD"
      }
    },
    {
      "cell_type": "code",
      "source": [
        "# Crear la lista con números del 1 al 10\n",
        "\n",
        "numeros =np.array(range(1, 11))\n",
        "\n",
        "numeros_invertidos=numeros[::-1]\n",
        "\n",
        "# Convertir los números a strings para unirlos con comas\n",
        "numeros_str = [str(num) for num in numeros_invertidos]\n",
        "\n",
        "# Mostrar los números separados por comas\n",
        "print(\", \".join(numeros_str))\n",
        "\n",
        "#guardar\n",
        "invertidos=np.save('ejer5',numeros_str)"
      ],
      "metadata": {
        "id": "cWWezw5rXGcD",
        "colab": {
          "base_uri": "https://localhost:8080/"
        },
        "outputId": "0f8ba656-6d72-4050-c553-bf1f0d9875e6"
      },
      "execution_count": 27,
      "outputs": [
        {
          "output_type": "stream",
          "name": "stdout",
          "text": [
            "10, 9, 8, 7, 6, 5, 4, 3, 2, 1\n"
          ]
        }
      ]
    },
    {
      "cell_type": "code",
      "source": [
        "#cargar\n",
        "np.load('ejer5.npy')"
      ],
      "metadata": {
        "id": "kLs6iONiZXED",
        "colab": {
          "base_uri": "https://localhost:8080/"
        },
        "outputId": "f2e0867d-0369-4f35-b34a-30a9dd10afa9"
      },
      "execution_count": 28,
      "outputs": [
        {
          "output_type": "execute_result",
          "data": {
            "text/plain": [
              "array(['10', '9', '8', '7', '6', '5', '4', '3', '2', '1'], dtype='<U2')"
            ]
          },
          "metadata": {},
          "execution_count": 28
        }
      ]
    },
    {
      "cell_type": "markdown",
      "source": [
        "Ejercicio 6\n",
        "Escribir un programa que almacene las asignaturas de un curso (por ejemplo Matemáticas, Física,\n",
        "Química, Historia y Lengua) en una lista, pregunte al usuario la nota que ha sacado en cada\n",
        "asignatura y elimine de la lista las asignaturas aprobadas. Al final el programa debe mostrar por\n",
        "pantalla las asignaturas que el usuario tiene que repetir.\n"
      ],
      "metadata": {
        "id": "1a3180puaRnj"
      }
    },
    {
      "cell_type": "code",
      "source": [
        "asignaturas = [\"Matemáticas\", \"Física\", \"Química\", \"Historia\", \"Lengua\"]\n",
        "notas = []\n",
        "\n",
        "# Recolectar las notas\n",
        "for asignatura in asignaturas:\n",
        "    while True:\n",
        "        try:\n",
        "            nota = float(input(f\"¿Qué nota has sacado en {asignatura}? \"))\n",
        "            if 0 <= nota <= 20:\n",
        "                notas.append(nota)\n",
        "                break\n",
        "            else:\n",
        "                print(\"La nota debe estar entre 0 y 20.\")\n",
        "        except ValueError:\n",
        "            print(\"Por favor, ingresa un número válido.\")\n",
        "\n",
        "# Determinar qué asignaturas se deben repetir\n",
        "asignaturas_a_repetir = []\n",
        "\n",
        "for i in range(len(notas)):\n",
        "    if notas[i] <= 10:\n",
        "        asignaturas_a_repetir.append(f\"{asignaturas[i]} (Nota: {notas[i]})\")\n",
        "\n",
        "# Mostrar resultado\n",
        "print(\"\\nDebes repetir las siguientes asignaturas:\")\n",
        "if asignaturas_a_repetir:\n",
        "    for rep in asignaturas_a_repetir:\n",
        "        print(f\"- {rep}\")\n",
        "else:\n",
        "    print(\"No debes repetir ninguna asignatura.\")\n",
        "\n",
        "\n",
        "\n",
        "# Guardar en archivo numpy\n",
        "np.save('ejer6', asignaturas_a_repetir)"
      ],
      "metadata": {
        "colab": {
          "base_uri": "https://localhost:8080/"
        },
        "id": "IeJzy_lqaUz1",
        "outputId": "32e412e4-b356-456d-b3a6-fecd5542d6cd"
      },
      "execution_count": 29,
      "outputs": [
        {
          "output_type": "stream",
          "name": "stdout",
          "text": [
            "¿Qué nota has sacado en Matemáticas? 2\n",
            "¿Qué nota has sacado en Física? 5\n",
            "¿Qué nota has sacado en Química? 4\n",
            "¿Qué nota has sacado en Historia? 24\n",
            "La nota debe estar entre 0 y 20.\n",
            "¿Qué nota has sacado en Historia? 5\n",
            "¿Qué nota has sacado en Lengua? 5\n",
            "\n",
            "Debes repetir las siguientes asignaturas:\n",
            "- Matemáticas (Nota: 2.0)\n",
            "- Física (Nota: 5.0)\n",
            "- Química (Nota: 4.0)\n",
            "- Historia (Nota: 5.0)\n",
            "- Lengua (Nota: 5.0)\n"
          ]
        }
      ]
    },
    {
      "cell_type": "code",
      "source": [
        "# Cargar archivo y mostrar contenido\n",
        "np.load('ejer6.npy')"
      ],
      "metadata": {
        "colab": {
          "base_uri": "https://localhost:8080/"
        },
        "id": "GaLFoY4XU9lT",
        "outputId": "4275f7e0-a6e9-4842-93b0-e1f9f7302d63"
      },
      "execution_count": 30,
      "outputs": [
        {
          "output_type": "execute_result",
          "data": {
            "text/plain": [
              "array(['Matemáticas (Nota: 2.0)', 'Física (Nota: 5.0)',\n",
              "       'Química (Nota: 4.0)', 'Historia (Nota: 5.0)',\n",
              "       'Lengua (Nota: 5.0)'], dtype='<U23')"
            ]
          },
          "metadata": {},
          "execution_count": 30
        }
      ]
    },
    {
      "cell_type": "markdown",
      "source": [
        "Ejercicio 7\n",
        "Escribir un programa que almacene el abecedario en una lista, elimine de la lista las letras que\n",
        "ocupen posiciones múltiplos de 3, y muestre por pantalla la lista resultante."
      ],
      "metadata": {
        "id": "9KE389pJXfRS"
      }
    },
    {
      "cell_type": "code",
      "source": [
        "\n",
        "import string\n",
        "\n",
        "abecedario = list(string.ascii_lowercase)\n",
        "resultado = [letra for i, letra in enumerate(abecedario, start=1) if i % 3 != 0]\n",
        "\n",
        "np.save('ej7.npy', np.array(resultado))\n",
        "\n"
      ],
      "metadata": {
        "id": "NTWxpZTwXf-T"
      },
      "execution_count": 31,
      "outputs": []
    },
    {
      "cell_type": "code",
      "source": [
        "cargado = np.load('ej7.npy')\n",
        "print(\"Resultado Ejercicio 7:\", list(cargado))"
      ],
      "metadata": {
        "colab": {
          "base_uri": "https://localhost:8080/"
        },
        "id": "R72qts2gb80M",
        "outputId": "9044bfa4-59e4-416e-fe0e-570c70ea93d7"
      },
      "execution_count": 32,
      "outputs": [
        {
          "output_type": "stream",
          "name": "stdout",
          "text": [
            "Resultado Ejercicio 7: [np.str_('a'), np.str_('b'), np.str_('d'), np.str_('e'), np.str_('g'), np.str_('h'), np.str_('j'), np.str_('k'), np.str_('m'), np.str_('n'), np.str_('p'), np.str_('q'), np.str_('s'), np.str_('t'), np.str_('v'), np.str_('w'), np.str_('y'), np.str_('z')]\n"
          ]
        }
      ]
    },
    {
      "cell_type": "markdown",
      "source": [
        "Ejercicio 8\n",
        "Escribir un programa que pida al usuario una palabra y muestre por pantalla si es un palíndromo"
      ],
      "metadata": {
        "id": "ZqcuRQQ8Xola"
      }
    },
    {
      "cell_type": "code",
      "source": [
        "\n",
        "\n",
        "palabra = input(\"Introduce una palabra: \").lower()\n",
        "es_palindromo =np.array( palabra == palabra[::-1])\n",
        "\n",
        "np.save('ej8.npy', es_palindromo)\n",
        "\n",
        "\n",
        "print(\"¿Es palíndromo?\", \"Sí\" if resultado else \"No\")\n"
      ],
      "metadata": {
        "colab": {
          "base_uri": "https://localhost:8080/"
        },
        "id": "E-_V61WZXhIk",
        "outputId": "41887d0a-3059-4240-f35c-101c9823c6de"
      },
      "execution_count": 33,
      "outputs": [
        {
          "output_type": "stream",
          "name": "stdout",
          "text": [
            "Introduce una palabra: 6\n",
            "¿Es palíndromo? Sí\n"
          ]
        }
      ]
    },
    {
      "cell_type": "code",
      "source": [
        " np.load('ej8.npy')\n"
      ],
      "metadata": {
        "colab": {
          "base_uri": "https://localhost:8080/"
        },
        "id": "39rnLO2kcajy",
        "outputId": "cd6397d2-00a5-4365-b360-da68c210d5e6"
      },
      "execution_count": 34,
      "outputs": [
        {
          "output_type": "execute_result",
          "data": {
            "text/plain": [
              "array(True)"
            ]
          },
          "metadata": {},
          "execution_count": 34
        }
      ]
    },
    {
      "cell_type": "markdown",
      "source": [
        "Ejercicio 9\n",
        "Escribir un programa que pida al usuario una palabra y muestre por pantalla el número de veces\n",
        "que contiene cada vocal.\n"
      ],
      "metadata": {
        "id": "acIA6XgXXqQ6"
      }
    },
    {
      "cell_type": "code",
      "source": [
        "\n",
        "\n",
        "palabra = input(\"Introduce una palabra: \").lower()\n",
        "vocales = \"aeiou\"\n",
        "conteo=[]\n",
        "for v in vocales:\n",
        "  conteo.append(palabra.count(v))\n",
        "\n",
        "\n",
        "\n",
        "np.save('ej9.npy',np.array(conteo))"
      ],
      "metadata": {
        "colab": {
          "base_uri": "https://localhost:8080/"
        },
        "id": "aAGyBvRUXhXa",
        "outputId": "9b235acb-50a7-4531-8a9b-3d0be156ffd6"
      },
      "execution_count": 35,
      "outputs": [
        {
          "name": "stdout",
          "output_type": "stream",
          "text": [
            "Introduce una palabra: 8\n"
          ]
        }
      ]
    },
    {
      "cell_type": "code",
      "source": [
        "cargadoooo = np.load('ej9.npy')\n",
        "print(\"Cantidad de vocales (a, e, i, o, u):\", cargadoooo)"
      ],
      "metadata": {
        "colab": {
          "base_uri": "https://localhost:8080/"
        },
        "id": "CzlybfgCdSLT",
        "outputId": "c3d19113-f937-482a-f115-3e4b46796681"
      },
      "execution_count": 36,
      "outputs": [
        {
          "output_type": "stream",
          "name": "stdout",
          "text": [
            "Cantidad de vocales (a, e, i, o, u): [0 0 0 0 0]\n"
          ]
        }
      ]
    },
    {
      "cell_type": "markdown",
      "source": [
        "Ejercicio 10\n",
        "Escribir un programa que almacene en una lista los siguientes precios, 50, 75, 46, 22, 80, 65, 8, y\n",
        "muestre por pantalla el menor y el mayor de los precios"
      ],
      "metadata": {
        "id": "veK3l9xTXt-C"
      }
    },
    {
      "cell_type": "code",
      "source": [
        "\n",
        "\n",
        "precios = np.array([50, 75, 46, 22, 80, 65, 8])\n",
        "np.save('ej10.npy', precios)\n",
        "\n",
        "\n"
      ],
      "metadata": {
        "id": "-uv7RXcgXhjy"
      },
      "execution_count": 37,
      "outputs": []
    },
    {
      "cell_type": "code",
      "source": [
        "cargado = np.load('ej10.npy')\n",
        "print(\"Menor precio:\", np.min(cargado))\n",
        "print(\"Mayor precio:\", np.max(cargado))"
      ],
      "metadata": {
        "colab": {
          "base_uri": "https://localhost:8080/"
        },
        "id": "PnyTsDmvhXg0",
        "outputId": "30bc832d-bbbf-4d39-c176-5711d98c0685"
      },
      "execution_count": 38,
      "outputs": [
        {
          "output_type": "stream",
          "name": "stdout",
          "text": [
            "Menor precio: 8\n",
            "Mayor precio: 80\n"
          ]
        }
      ]
    },
    {
      "cell_type": "markdown",
      "source": [
        "Ejercicio 11\n",
        "Escribir un programa que almacene los vectores (1,2,3) y (-1,0,2) en dos listas y muestre por\n",
        "pantalla su producto escalar.\n"
      ],
      "metadata": {
        "id": "v2U2-zhjXv_i"
      }
    },
    {
      "cell_type": "code",
      "source": [
        "\n",
        "\n",
        "v1 = np.array([1, 2, 3])\n",
        "v2 = np.array([-1, 0, 2])\n",
        "producto = np.dot(v1, v2)\n",
        "producto=np.array(producto)\n",
        "np.save('ej11.npy',producto )\n",
        "\n"
      ],
      "metadata": {
        "id": "mNiOCwIxXh5S"
      },
      "execution_count": 39,
      "outputs": []
    },
    {
      "cell_type": "code",
      "source": [
        "cargado = np.load('ej11.npy')\n",
        "print(\"Producto escalar:\", cargado)"
      ],
      "metadata": {
        "colab": {
          "base_uri": "https://localhost:8080/"
        },
        "id": "bhHQS-cZiIBz",
        "outputId": "5fb38d56-5f1f-4357-fcca-5cda5e76f518"
      },
      "execution_count": 40,
      "outputs": [
        {
          "output_type": "stream",
          "name": "stdout",
          "text": [
            "Producto escalar: 5\n"
          ]
        }
      ]
    },
    {
      "cell_type": "markdown",
      "source": [
        "Ejercicio 12\n",
        "Escribir un programa que almacene las matrices en una lista y muestre por pantalla su producto.\n",
        "Nota: Para representar matrices mediante listas usar listas anidadas, representando cada vector\n",
        "fila en una lista."
      ],
      "metadata": {
        "id": "z1ekcpyOXxzj"
      }
    },
    {
      "cell_type": "code",
      "source": [
        "\n",
        "\n",
        "matriz1 = np.array([[1, 2], [3, 4]])\n",
        "matriz2 = np.array([[2, 0], [1, 2]])\n",
        "producto = np.matmul(matriz1, matriz2)\n",
        "\n",
        "np.save('ej12.npy', producto)\n",
        "\n"
      ],
      "metadata": {
        "id": "WOcnv74LXzLS"
      },
      "execution_count": 41,
      "outputs": []
    },
    {
      "cell_type": "code",
      "source": [
        "cargado = np.load('ej12.npy')\n",
        "print(\"Producto de matrices:\\n\", cargado)"
      ],
      "metadata": {
        "colab": {
          "base_uri": "https://localhost:8080/"
        },
        "id": "mp_t6qU4jCoU",
        "outputId": "8c67fcb8-08eb-4b2e-d422-7a715095c392"
      },
      "execution_count": 42,
      "outputs": [
        {
          "output_type": "stream",
          "name": "stdout",
          "text": [
            "Producto de matrices:\n",
            " [[ 4  4]\n",
            " [10  8]]\n"
          ]
        }
      ]
    },
    {
      "cell_type": "markdown",
      "source": [
        "Ejercicio 13\n",
        "Escribir un programa que pregunte por una muestra de números, separados por comas, los guarde\n",
        "en una lista y muestre por pantalla su media y desviación típica."
      ],
      "metadata": {
        "id": "ObkCdW0wXzZa"
      }
    },
    {
      "cell_type": "code",
      "source": [
        "# Paso 1: Pedir al usuario los números separados por comas\n",
        "entrada = input(\"Introduce números separados por comas: \")\n",
        "# Paso 2: Separar los números y convertirlos en flotantes\n",
        "lista_numeros = entrada.split(\",\")  # convierte \"10,20,30\" → [\"10\", \"20\", \"30\"]\n",
        "numeros = []\n",
        "for x in lista_numeros:\n",
        "    numeros.append(float(x))  # convierte string a float\n",
        "numeros_array = np.array(numeros)\n",
        "media = np.mean(numeros_array)\n",
        "desviacion = np.std(numeros_array)\n",
        "\n",
        "resultado = np.array([media, desviacion])\n",
        "\n",
        "np.save('ej13.npy', resultado)\n",
        "\n",
        "\n"
      ],
      "metadata": {
        "colab": {
          "base_uri": "https://localhost:8080/"
        },
        "id": "rCk6FBk1X1Zb",
        "outputId": "fc74992f-ca02-4b6a-dbb9-a550d3eb4696"
      },
      "execution_count": 43,
      "outputs": [
        {
          "name": "stdout",
          "output_type": "stream",
          "text": [
            "Introduce números separados por comas: 7\n"
          ]
        }
      ]
    },
    {
      "cell_type": "code",
      "source": [
        "# Cargar y mostrar el resultado\n",
        "cargado = np.load('ej13.npy')\n",
        "print(f\"Media: {cargado[0]:.2f}\")\n",
        "print(f\"Desviación típica: {cargado[1]:.2f}\")"
      ],
      "metadata": {
        "colab": {
          "base_uri": "https://localhost:8080/"
        },
        "id": "og59KPXMj5XE",
        "outputId": "52301f89-dc7b-4815-c0ee-fe568c0f6b38"
      },
      "execution_count": 44,
      "outputs": [
        {
          "output_type": "stream",
          "name": "stdout",
          "text": [
            "Media: 7.00\n",
            "Desviación típica: 0.00\n"
          ]
        }
      ]
    },
    {
      "cell_type": "markdown",
      "source": [
        "Tipos de datos\n"
      ],
      "metadata": {
        "id": "yAZtu0VLnmDn"
      }
    },
    {
      "cell_type": "code",
      "source": [
        "# ENTEROS\n",
        "np.int64\n",
        "\n",
        "# DECIMAL, FLOTANTES\n",
        "np.float64\n",
        "\n",
        "#complejos\n",
        "np.complex64\n",
        "\n",
        "#BOOLEANOS\n",
        "np.bool\n",
        "np.bool_\n",
        "\n",
        "#OBJETOS\n",
        "np.object_\n",
        "\n",
        "#CADENA DE TEXTO\n",
        "np.strings\n",
        "\n",
        "#------------------------------#\n",
        "np.bytes_\n"
      ],
      "metadata": {
        "colab": {
          "base_uri": "https://localhost:8080/"
        },
        "id": "k0RvAEphnoK5",
        "outputId": "20185441-bcb4-46a1-8c88-d1f01d175389"
      },
      "execution_count": 45,
      "outputs": [
        {
          "output_type": "execute_result",
          "data": {
            "text/plain": [
              "numpy.bytes_"
            ]
          },
          "metadata": {},
          "execution_count": 45
        }
      ]
    },
    {
      "cell_type": "markdown",
      "source": [
        "PROPIEDADES Y CARACTERISTICAS DE ENTEROS"
      ],
      "metadata": {
        "id": "S2_chNrMnqZB"
      }
    },
    {
      "cell_type": "code",
      "source": [
        "array_3d.shape"
      ],
      "metadata": {
        "colab": {
          "base_uri": "https://localhost:8080/"
        },
        "id": "R3AcQlsZntAw",
        "outputId": "8662b9d6-5320-4b94-d0ad-bbc9f025cdb4"
      },
      "execution_count": 46,
      "outputs": [
        {
          "output_type": "execute_result",
          "data": {
            "text/plain": [
              "(3, 3)"
            ]
          },
          "metadata": {},
          "execution_count": 46
        }
      ]
    },
    {
      "cell_type": "code",
      "source": [
        "#longitud-el mayor de un array\n",
        "len(array_2d)"
      ],
      "metadata": {
        "colab": {
          "base_uri": "https://localhost:8080/"
        },
        "id": "x9Ex39q-n_iy",
        "outputId": "4a335ec0-49e2-4c33-a880-a6c894c7b53d"
      },
      "execution_count": 47,
      "outputs": [
        {
          "output_type": "execute_result",
          "data": {
            "text/plain": [
              "2"
            ]
          },
          "metadata": {},
          "execution_count": 47
        }
      ]
    },
    {
      "cell_type": "code",
      "source": [
        "#numeros de dimensiones\n",
        "array_2d.ndim"
      ],
      "metadata": {
        "colab": {
          "base_uri": "https://localhost:8080/"
        },
        "id": "I8jex_oaoKC5",
        "outputId": "e064f21f-c6ca-430a-b84d-524eebd5ee19"
      },
      "execution_count": 52,
      "outputs": [
        {
          "output_type": "execute_result",
          "data": {
            "text/plain": [
              "2"
            ]
          },
          "metadata": {},
          "execution_count": 52
        }
      ]
    },
    {
      "cell_type": "markdown",
      "source": [],
      "metadata": {
        "id": "mTYQxOm-oJRJ"
      }
    },
    {
      "cell_type": "code",
      "source": [
        "array_5d = np.array([[[[[(2,3,6)], [(4,5,4)], [(1,2,1)], [(6,3,7)], [(7,8,9)]],[[(2,3,6)], [(4,5,6)], [(1,2,1)], [(6,3,7)], [(7,8,9)]],[[(2,3,6)], [(4,5,6)], [(1,2,1)], [(6,3,7)], [(7,8,9)]],[[(2,3,6)], [(4,5,6)], [(1,2,1)], [(6,3,7)], [(7,8,9)]],[[(2,3,6)], [(4,5,6)], [(1,2,1)], [(6,3,7)], [(7,8,9)]]]]], dtype=str)\n",
        "\n",
        "print(array_5d)"
      ],
      "metadata": {
        "collapsed": true,
        "colab": {
          "base_uri": "https://localhost:8080/"
        },
        "id": "qYyCxcvAo4Mx",
        "outputId": "8d677d68-6554-4e9c-f20b-18483d7bd208"
      },
      "execution_count": 83,
      "outputs": [
        {
          "output_type": "stream",
          "name": "stdout",
          "text": [
            "[[[[[['2' '3' '6']]\n",
            "\n",
            "    [['4' '5' '4']]\n",
            "\n",
            "    [['1' '2' '1']]\n",
            "\n",
            "    [['6' '3' '7']]\n",
            "\n",
            "    [['7' '8' '9']]]\n",
            "\n",
            "\n",
            "   [[['2' '3' '6']]\n",
            "\n",
            "    [['4' '5' '6']]\n",
            "\n",
            "    [['1' '2' '1']]\n",
            "\n",
            "    [['6' '3' '7']]\n",
            "\n",
            "    [['7' '8' '9']]]\n",
            "\n",
            "\n",
            "   [[['2' '3' '6']]\n",
            "\n",
            "    [['4' '5' '6']]\n",
            "\n",
            "    [['1' '2' '1']]\n",
            "\n",
            "    [['6' '3' '7']]\n",
            "\n",
            "    [['7' '8' '9']]]\n",
            "\n",
            "\n",
            "   [[['2' '3' '6']]\n",
            "\n",
            "    [['4' '5' '6']]\n",
            "\n",
            "    [['1' '2' '1']]\n",
            "\n",
            "    [['6' '3' '7']]\n",
            "\n",
            "    [['7' '8' '9']]]\n",
            "\n",
            "\n",
            "   [[['2' '3' '6']]\n",
            "\n",
            "    [['4' '5' '6']]\n",
            "\n",
            "    [['1' '2' '1']]\n",
            "\n",
            "    [['6' '3' '7']]\n",
            "\n",
            "    [['7' '8' '9']]]]]]\n"
          ]
        }
      ]
    },
    {
      "cell_type": "code",
      "source": [
        "#tipo de datos de mmi arreglo\n",
        "array_3d.dtype.name"
      ],
      "metadata": {
        "colab": {
          "base_uri": "https://localhost:8080/",
          "height": 35
        },
        "id": "WilKXjuCs5Xq",
        "outputId": "bdf0d083-28cb-4d8e-a90b-ded2dc514e51"
      },
      "execution_count": 78,
      "outputs": [
        {
          "output_type": "execute_result",
          "data": {
            "text/plain": [
              "'str64'"
            ],
            "application/vnd.google.colaboratory.intrinsic+json": {
              "type": "string"
            }
          },
          "metadata": {},
          "execution_count": 78
        }
      ]
    },
    {
      "cell_type": "code",
      "source": [
        "#convertir de un tipo de dato a otro\n",
        "array_5d.astype(np.float16)"
      ],
      "metadata": {
        "collapsed": true,
        "colab": {
          "base_uri": "https://localhost:8080/"
        },
        "id": "aovuwuTftGNa",
        "outputId": "e17ec020-480a-4867-b37e-a9e4da688e84"
      },
      "execution_count": 85,
      "outputs": [
        {
          "output_type": "execute_result",
          "data": {
            "text/plain": [
              "array([[[[[[2., 3., 6.]],\n",
              "\n",
              "          [[4., 5., 4.]],\n",
              "\n",
              "          [[1., 2., 1.]],\n",
              "\n",
              "          [[6., 3., 7.]],\n",
              "\n",
              "          [[7., 8., 9.]]],\n",
              "\n",
              "\n",
              "         [[[2., 3., 6.]],\n",
              "\n",
              "          [[4., 5., 6.]],\n",
              "\n",
              "          [[1., 2., 1.]],\n",
              "\n",
              "          [[6., 3., 7.]],\n",
              "\n",
              "          [[7., 8., 9.]]],\n",
              "\n",
              "\n",
              "         [[[2., 3., 6.]],\n",
              "\n",
              "          [[4., 5., 6.]],\n",
              "\n",
              "          [[1., 2., 1.]],\n",
              "\n",
              "          [[6., 3., 7.]],\n",
              "\n",
              "          [[7., 8., 9.]]],\n",
              "\n",
              "\n",
              "         [[[2., 3., 6.]],\n",
              "\n",
              "          [[4., 5., 6.]],\n",
              "\n",
              "          [[1., 2., 1.]],\n",
              "\n",
              "          [[6., 3., 7.]],\n",
              "\n",
              "          [[7., 8., 9.]]],\n",
              "\n",
              "\n",
              "         [[[2., 3., 6.]],\n",
              "\n",
              "          [[4., 5., 6.]],\n",
              "\n",
              "          [[1., 2., 1.]],\n",
              "\n",
              "          [[6., 3., 7.]],\n",
              "\n",
              "          [[7., 8., 9.]]]]]], dtype=float16)"
            ]
          },
          "metadata": {},
          "execution_count": 85
        }
      ]
    },
    {
      "cell_type": "code",
      "source": [
        "#convertir de un tipo de dato a otro\n",
        "array_5d.astype(str)"
      ],
      "metadata": {
        "collapsed": true,
        "colab": {
          "base_uri": "https://localhost:8080/"
        },
        "id": "iZ7iMnHrtaXR",
        "outputId": "bbff8cd5-0c5e-4a88-c35b-23ae81a4dace"
      },
      "execution_count": 84,
      "outputs": [
        {
          "output_type": "execute_result",
          "data": {
            "text/plain": [
              "array([[[[[['2', '3', '6']],\n",
              "\n",
              "          [['4', '5', '4']],\n",
              "\n",
              "          [['1', '2', '1']],\n",
              "\n",
              "          [['6', '3', '7']],\n",
              "\n",
              "          [['7', '8', '9']]],\n",
              "\n",
              "\n",
              "         [[['2', '3', '6']],\n",
              "\n",
              "          [['4', '5', '6']],\n",
              "\n",
              "          [['1', '2', '1']],\n",
              "\n",
              "          [['6', '3', '7']],\n",
              "\n",
              "          [['7', '8', '9']]],\n",
              "\n",
              "\n",
              "         [[['2', '3', '6']],\n",
              "\n",
              "          [['4', '5', '6']],\n",
              "\n",
              "          [['1', '2', '1']],\n",
              "\n",
              "          [['6', '3', '7']],\n",
              "\n",
              "          [['7', '8', '9']]],\n",
              "\n",
              "\n",
              "         [[['2', '3', '6']],\n",
              "\n",
              "          [['4', '5', '6']],\n",
              "\n",
              "          [['1', '2', '1']],\n",
              "\n",
              "          [['6', '3', '7']],\n",
              "\n",
              "          [['7', '8', '9']]],\n",
              "\n",
              "\n",
              "         [[['2', '3', '6']],\n",
              "\n",
              "          [['4', '5', '6']],\n",
              "\n",
              "          [['1', '2', '1']],\n",
              "\n",
              "          [['6', '3', '7']],\n",
              "\n",
              "          [['7', '8', '9']]]]]], dtype='<U1')"
            ]
          },
          "metadata": {},
          "execution_count": 84
        }
      ]
    },
    {
      "cell_type": "markdown",
      "source": [
        "operadores matematicos"
      ],
      "metadata": {
        "id": "m4P8XI-Rt-Ia"
      }
    },
    {
      "cell_type": "code",
      "source": [
        "#array de ejemplos\n",
        "array4=np.random.random((4,4,2))\n",
        "array4"
      ],
      "metadata": {
        "collapsed": true,
        "colab": {
          "base_uri": "https://localhost:8080/"
        },
        "id": "vtnVdtQ5t_-L",
        "outputId": "3204ccec-57d6-4f21-d69d-7a26d2de7ab1"
      },
      "execution_count": 93,
      "outputs": [
        {
          "output_type": "execute_result",
          "data": {
            "text/plain": [
              "array([[[0.54156924, 0.14686827],\n",
              "        [0.77999606, 0.13513704],\n",
              "        [0.36850194, 0.16706814],\n",
              "        [0.50429229, 0.70127944]],\n",
              "\n",
              "       [[0.86459556, 0.21860809],\n",
              "        [0.23086531, 0.05052303],\n",
              "        [0.04513074, 0.19661977],\n",
              "        [0.88262293, 0.54947236]],\n",
              "\n",
              "       [[0.46096951, 0.28859605],\n",
              "        [0.38209059, 0.75455174],\n",
              "        [0.2405377 , 0.26717038],\n",
              "        [0.45788214, 0.5273288 ]],\n",
              "\n",
              "       [[0.181614  , 0.61136489],\n",
              "        [0.61201788, 0.38405352],\n",
              "        [0.21744009, 0.38728924],\n",
              "        [0.72379875, 0.54684414]]])"
            ]
          },
          "metadata": {},
          "execution_count": 93
        }
      ]
    },
    {
      "cell_type": "code",
      "source": [
        "#array\n",
        "array5=np.random.random((4,4,2))\n",
        "array5"
      ],
      "metadata": {
        "collapsed": true,
        "colab": {
          "base_uri": "https://localhost:8080/"
        },
        "id": "2Oz7wqoEukfZ",
        "outputId": "259dd3c5-c8a3-4e77-bf69-308b91288742"
      },
      "execution_count": 94,
      "outputs": [
        {
          "output_type": "execute_result",
          "data": {
            "text/plain": [
              "array([[[0.76893492, 0.47239975],\n",
              "        [0.59849416, 0.95428966],\n",
              "        [0.36459713, 0.79293166],\n",
              "        [0.78958605, 0.26494016]],\n",
              "\n",
              "       [[0.37947774, 0.53990432],\n",
              "        [0.89088936, 0.82656547],\n",
              "        [0.06686195, 0.26661269],\n",
              "        [0.41605447, 0.996638  ]],\n",
              "\n",
              "       [[0.75156944, 0.13885993],\n",
              "        [0.45914934, 0.18825501],\n",
              "        [0.2528177 , 0.6456977 ],\n",
              "        [0.31959084, 0.11531389]],\n",
              "\n",
              "       [[0.31063792, 0.44844927],\n",
              "        [0.57509998, 0.26955299],\n",
              "        [0.21628743, 0.35657545],\n",
              "        [0.8851467 , 0.2786237 ]]])"
            ]
          },
          "metadata": {},
          "execution_count": 94
        }
      ]
    },
    {
      "cell_type": "code",
      "source": [
        "array3=np.random.random((4,4,2))"
      ],
      "metadata": {
        "id": "J5ORX706uxtR"
      },
      "execution_count": 95,
      "outputs": []
    },
    {
      "cell_type": "code",
      "source": [
        "#suma\n",
        "array6=array3+array4+array5\n",
        "array4"
      ],
      "metadata": {
        "collapsed": true,
        "colab": {
          "base_uri": "https://localhost:8080/"
        },
        "id": "djBZ3vKTvAGR",
        "outputId": "2261e452-2619-450a-d143-eccf6a680325"
      },
      "execution_count": 98,
      "outputs": [
        {
          "output_type": "execute_result",
          "data": {
            "text/plain": [
              "array([[[0.54156924, 0.14686827],\n",
              "        [0.77999606, 0.13513704],\n",
              "        [0.36850194, 0.16706814],\n",
              "        [0.50429229, 0.70127944]],\n",
              "\n",
              "       [[0.86459556, 0.21860809],\n",
              "        [0.23086531, 0.05052303],\n",
              "        [0.04513074, 0.19661977],\n",
              "        [0.88262293, 0.54947236]],\n",
              "\n",
              "       [[0.46096951, 0.28859605],\n",
              "        [0.38209059, 0.75455174],\n",
              "        [0.2405377 , 0.26717038],\n",
              "        [0.45788214, 0.5273288 ]],\n",
              "\n",
              "       [[0.181614  , 0.61136489],\n",
              "        [0.61201788, 0.38405352],\n",
              "        [0.21744009, 0.38728924],\n",
              "        [0.72379875, 0.54684414]]])"
            ]
          },
          "metadata": {},
          "execution_count": 98
        }
      ]
    },
    {
      "cell_type": "code",
      "source": [
        "#orta frma para sumar\n",
        "arra7=np.add(array3,array4,array5)\n",
        "arra7"
      ],
      "metadata": {
        "collapsed": true,
        "colab": {
          "base_uri": "https://localhost:8080/"
        },
        "id": "036tkayQvUOB",
        "outputId": "18fbab89-2d45-4e5c-8f0e-22ee454934c9"
      },
      "execution_count": 99,
      "outputs": [
        {
          "output_type": "execute_result",
          "data": {
            "text/plain": [
              "array([[[0.79285078, 1.0629835 ],\n",
              "        [1.15426897, 0.20567613],\n",
              "        [0.95418372, 0.23744876],\n",
              "        [0.90281342, 1.08675101]],\n",
              "\n",
              "       [[1.65240728, 0.44700467],\n",
              "        [1.21402165, 0.77632573],\n",
              "        [0.89357428, 0.3344072 ],\n",
              "        [1.20699012, 1.49849359]],\n",
              "\n",
              "       [[0.54058188, 0.59046522],\n",
              "        [0.5986269 , 1.1098114 ],\n",
              "        [0.50416429, 0.54814935],\n",
              "        [0.60902222, 1.28232737]],\n",
              "\n",
              "       [[0.22899947, 0.85595405],\n",
              "        [1.2828022 , 0.76780726],\n",
              "        [0.23220977, 0.91889067],\n",
              "        [1.53280435, 1.41540082]]])"
            ]
          },
          "metadata": {},
          "execution_count": 99
        }
      ]
    },
    {
      "cell_type": "code",
      "source": [
        "#resta\n",
        "arra8=arra7-array6\n",
        "arra8"
      ],
      "metadata": {
        "colab": {
          "base_uri": "https://localhost:8080/"
        },
        "id": "n5p7y8D_vrrx",
        "outputId": "173ca6de-48f4-4a68-bd1b-8590d2588394"
      },
      "execution_count": 100,
      "outputs": [
        {
          "output_type": "execute_result",
          "data": {
            "text/plain": [
              "array([[[-0.79285078, -1.0629835 ],\n",
              "        [-1.15426897, -0.20567613],\n",
              "        [-0.95418372, -0.23744876],\n",
              "        [-0.90281342, -1.08675101]],\n",
              "\n",
              "       [[-1.65240728, -0.44700467],\n",
              "        [-1.21402165, -0.77632573],\n",
              "        [-0.89357428, -0.3344072 ],\n",
              "        [-1.20699012, -1.49849359]],\n",
              "\n",
              "       [[-0.54058188, -0.59046522],\n",
              "        [-0.5986269 , -1.1098114 ],\n",
              "        [-0.50416429, -0.54814935],\n",
              "        [-0.60902222, -1.28232737]],\n",
              "\n",
              "       [[-0.22899947, -0.85595405],\n",
              "        [-1.2828022 , -0.76780726],\n",
              "        [-0.23220977, -0.91889067],\n",
              "        [-1.53280435, -1.41540082]]])"
            ]
          },
          "metadata": {},
          "execution_count": 100
        }
      ]
    },
    {
      "cell_type": "code",
      "source": [
        "#Multiplicacion\n",
        "arradasd9=np.multiply(arra8,array4)\n",
        "arradasd9"
      ],
      "metadata": {
        "collapsed": true,
        "colab": {
          "base_uri": "https://localhost:8080/"
        },
        "id": "4_SJ1kemwMYB",
        "outputId": "a5a7cfac-98d7-4972-80d8-9608feb39782"
      },
      "execution_count": 103,
      "outputs": [
        {
          "output_type": "execute_result",
          "data": {
            "text/plain": [
              "array([[[-0.4293836 , -0.15611855],\n",
              "        [-0.90032525, -0.02779446],\n",
              "        [-0.35161855, -0.03967012],\n",
              "        [-0.45528185, -0.76211614]],\n",
              "\n",
              "       [[-1.428664  , -0.09771884],\n",
              "        [-0.28027549, -0.03922233],\n",
              "        [-0.04032767, -0.06575107],\n",
              "        [-1.06531716, -0.8233808 ]],\n",
              "\n",
              "       [[-0.24919177, -0.17040593],\n",
              "        [-0.22872971, -0.83741013],\n",
              "        [-0.12127052, -0.14644927],\n",
              "        [-0.2788604 , -0.67620816]],\n",
              "\n",
              "       [[-0.04158951, -0.52330026],\n",
              "        [-0.78509788, -0.29487908],\n",
              "        [-0.05049171, -0.35587647],\n",
              "        [-1.10944188, -0.77400365]]])"
            ]
          },
          "metadata": {},
          "execution_count": 103
        }
      ]
    },
    {
      "cell_type": "code",
      "source": [
        "#resta con funcion\n",
        "arra10=np.subtract\n",
        "\n",
        "#diviaion\n",
        "arra11=np.divide(arra7,array4)\n",
        "arra11"
      ],
      "metadata": {
        "collapsed": true,
        "colab": {
          "base_uri": "https://localhost:8080/"
        },
        "id": "wTrnayemwpFp",
        "outputId": "79ee37e1-31ef-4a3e-8a5f-d547dc6c5225"
      },
      "execution_count": 107,
      "outputs": [
        {
          "output_type": "execute_result",
          "data": {
            "text/plain": [
              "array([[[ 1.46398784,  7.23766622],\n",
              "        [ 1.47983948,  1.52198191],\n",
              "        [ 2.58935878,  1.42126897],\n",
              "        [ 1.79025823,  1.54966901]],\n",
              "\n",
              "       [[ 1.91119103,  2.04477637],\n",
              "        [ 5.258571  , 15.36578025],\n",
              "        [19.79968079,  1.70078113],\n",
              "        [ 1.36750369,  2.72715011]],\n",
              "\n",
              "       [[ 1.17270638,  2.04599206],\n",
              "        [ 1.56671456,  1.47082214],\n",
              "        [ 2.09598863,  2.0516846 ],\n",
              "        [ 1.33008514,  2.43174157]],\n",
              "\n",
              "       [[ 1.26091309,  1.40007067],\n",
              "        [ 2.09602077,  1.99921941],\n",
              "        [ 1.06792527,  2.37262123],\n",
              "        [ 2.11772174,  2.58830753]]])"
            ]
          },
          "metadata": {},
          "execution_count": 107
        }
      ]
    },
    {
      "cell_type": "code",
      "source": [
        "#exponente\n",
        "np.exp(array3)"
      ],
      "metadata": {
        "collapsed": true,
        "colab": {
          "base_uri": "https://localhost:8080/"
        },
        "id": "kl1lJ-UXx49p",
        "outputId": "f63903f6-0587-4447-87e1-692af6e5a00d"
      },
      "execution_count": 110,
      "outputs": [
        {
          "output_type": "execute_result",
          "data": {
            "text/plain": [
              "array([[[1.285672  , 2.49956129],\n",
              "        [1.45393388, 1.07308651],\n",
              "        [1.7962152 , 1.07291648],\n",
              "        [1.48962012, 1.47030752]],\n",
              "\n",
              "       [[2.19858004, 1.25658355],\n",
              "        [2.67287944, 2.06638912],\n",
              "        [2.33600811, 1.14773155],\n",
              "        [1.38315509, 2.5831801 ]],\n",
              "\n",
              "       [[1.08286724, 1.35238428],\n",
              "        [1.24176816, 1.42655103],\n",
              "        [1.30164206, 1.32442575],\n",
              "        [1.16315959, 2.12760848]],\n",
              "\n",
              "       [[1.04852611, 1.27709652],\n",
              "        [1.95577066, 1.46778393],\n",
              "        [1.01487929, 1.70165521],\n",
              "        [2.24567378, 2.38346825]]])"
            ]
          },
          "metadata": {},
          "execution_count": 110
        }
      ]
    },
    {
      "cell_type": "code",
      "source": [
        "#seno\n",
        "np.sin(array5)\n",
        "#coseno\n",
        "np.cos(array6)\n",
        "#logaritmo\n",
        "np.log(array3)"
      ],
      "metadata": {
        "collapsed": true,
        "colab": {
          "base_uri": "https://localhost:8080/"
        },
        "id": "qB0Q9neSyJIB",
        "outputId": "7f31aa1a-4925-462f-aed6-e6ed86b193f9"
      },
      "execution_count": 112,
      "outputs": [
        {
          "output_type": "execute_result",
          "data": {
            "text/plain": [
              "array([[[-1.38118129, -0.08761312],\n",
              "        [-0.98277006, -2.65158827],\n",
              "        [-0.53497867, -2.65383729],\n",
              "        [-0.91999475, -0.95328783]],\n",
              "\n",
              "       [[-0.23849615, -1.47667181],\n",
              "        [-0.01698714, -0.32047707],\n",
              "        [-0.16435174, -1.98204317],\n",
              "        [-1.12587912, -0.0523241 ]],\n",
              "\n",
              "       [[-2.53058574, -1.19776157],\n",
              "        [-1.52999706, -1.03490631],\n",
              "        [-1.33322161, -1.26947544],\n",
              "        [-1.88954813, -0.28103943]],\n",
              "\n",
              "       [[-3.04943962, -1.40817537],\n",
              "        [-0.39930763, -0.95775425],\n",
              "        [-4.21517902, -0.63186126],\n",
              "        [-0.21194944, -0.14092244]]])"
            ]
          },
          "metadata": {},
          "execution_count": 112
        }
      ]
    },
    {
      "cell_type": "markdown",
      "source": [
        "COMPARACIONES ENTRE MATRICES"
      ],
      "metadata": {
        "id": "gAgtPisvy2Lx"
      }
    },
    {
      "cell_type": "code",
      "source": [
        "#==\n",
        "array4==array3"
      ],
      "metadata": {
        "collapsed": true,
        "colab": {
          "base_uri": "https://localhost:8080/"
        },
        "id": "AFArqARdy6Ri",
        "outputId": "dffac093-1a02-4070-f668-427c1b48912a"
      },
      "execution_count": 113,
      "outputs": [
        {
          "output_type": "execute_result",
          "data": {
            "text/plain": [
              "array([[[False, False],\n",
              "        [False, False],\n",
              "        [False, False],\n",
              "        [False, False]],\n",
              "\n",
              "       [[False, False],\n",
              "        [False, False],\n",
              "        [False, False],\n",
              "        [False, False]],\n",
              "\n",
              "       [[False, False],\n",
              "        [False, False],\n",
              "        [False, False],\n",
              "        [False, False]],\n",
              "\n",
              "       [[False, False],\n",
              "        [False, False],\n",
              "        [False, False],\n",
              "        [False, False]]])"
            ]
          },
          "metadata": {},
          "execution_count": 113
        }
      ]
    },
    {
      "cell_type": "code",
      "source": [
        "# <\n",
        "arra11 < 0.5"
      ],
      "metadata": {
        "collapsed": true,
        "colab": {
          "base_uri": "https://localhost:8080/"
        },
        "id": "RdRNJfN_zEGK",
        "outputId": "b4a36b40-0e64-452d-9aab-1cd5bf73e837"
      },
      "execution_count": 114,
      "outputs": [
        {
          "output_type": "execute_result",
          "data": {
            "text/plain": [
              "array([[[False, False],\n",
              "        [False, False],\n",
              "        [False, False],\n",
              "        [False, False]],\n",
              "\n",
              "       [[False, False],\n",
              "        [False, False],\n",
              "        [False, False],\n",
              "        [False, False]],\n",
              "\n",
              "       [[False, False],\n",
              "        [False, False],\n",
              "        [False, False],\n",
              "        [False, False]],\n",
              "\n",
              "       [[False, False],\n",
              "        [False, False],\n",
              "        [False, False],\n",
              "        [False, False]]])"
            ]
          },
          "metadata": {},
          "execution_count": 114
        }
      ]
    },
    {
      "cell_type": "code",
      "source": [
        "# >\n",
        "array11 >0.5"
      ],
      "metadata": {
        "id": "7iUUdhExzUPB"
      },
      "execution_count": null,
      "outputs": []
    },
    {
      "cell_type": "code",
      "source": [
        "# <=  /   >=\n",
        "arra8<=0.1"
      ],
      "metadata": {
        "collapsed": true,
        "colab": {
          "base_uri": "https://localhost:8080/"
        },
        "id": "m35Z24VlzeBT",
        "outputId": "dbcab82c-a141-404a-95a2-91e43ecac4ba"
      },
      "execution_count": 119,
      "outputs": [
        {
          "output_type": "execute_result",
          "data": {
            "text/plain": [
              "array([[[ True,  True],\n",
              "        [ True,  True],\n",
              "        [ True,  True],\n",
              "        [ True,  True]],\n",
              "\n",
              "       [[ True,  True],\n",
              "        [ True,  True],\n",
              "        [ True,  True],\n",
              "        [ True,  True]],\n",
              "\n",
              "       [[ True,  True],\n",
              "        [ True,  True],\n",
              "        [ True,  True],\n",
              "        [ True,  True]],\n",
              "\n",
              "       [[ True,  True],\n",
              "        [ True,  True],\n",
              "        [ True,  True],\n",
              "        [ True,  True]]])"
            ]
          },
          "metadata": {},
          "execution_count": 119
        }
      ]
    },
    {
      "cell_type": "markdown",
      "source": [
        "ESTADISTICAS  Y FUNCIONES"
      ],
      "metadata": {
        "id": "-wMVoy7rz50B"
      }
    },
    {
      "cell_type": "code",
      "source": [
        "arraya=np.random.random((5,5))\n",
        "arraya"
      ],
      "metadata": {
        "colab": {
          "base_uri": "https://localhost:8080/"
        },
        "id": "hcmx-REcz26R",
        "outputId": "a799b002-4c74-4942-f51f-a3a5934e93b0"
      },
      "execution_count": 122,
      "outputs": [
        {
          "output_type": "execute_result",
          "data": {
            "text/plain": [
              "array([[0.00504912, 0.67323278, 0.81202474, 0.01727735, 0.60315828],\n",
              "       [0.66114694, 0.7175856 , 0.96374452, 0.45460618, 0.77416173],\n",
              "       [0.90335286, 0.93500625, 0.50471256, 0.00311131, 0.32149124],\n",
              "       [0.40803317, 0.36616543, 0.84712123, 0.21183053, 0.16135212],\n",
              "       [0.83348286, 0.06237884, 0.26699308, 0.17778976, 0.41428798]])"
            ]
          },
          "metadata": {},
          "execution_count": 122
        }
      ]
    },
    {
      "cell_type": "code",
      "source": [
        "#suma de elemetos\n",
        "suma_total=array4.sum()\n",
        "\n",
        "suma_total"
      ],
      "metadata": {
        "collapsed": true,
        "colab": {
          "base_uri": "https://localhost:8080/",
          "height": 193
        },
        "id": "yVBs8Bfp0rTp",
        "outputId": "31876ced-3793-482f-f90b-628d64c20a56"
      },
      "execution_count": 125,
      "outputs": [
        {
          "output_type": "error",
          "ename": "TypeError",
          "evalue": "'numpy.dtypes.Float64DType' object is not callable",
          "traceback": [
            "\u001b[0;31m---------------------------------------------------------------------------\u001b[0m",
            "\u001b[0;31mTypeError\u001b[0m                                 Traceback (most recent call last)",
            "\u001b[0;32m/tmp/ipython-input-125-1548148381.py\u001b[0m in \u001b[0;36m<cell line: 0>\u001b[0;34m()\u001b[0m\n\u001b[1;32m      1\u001b[0m \u001b[0;31m#suma de elemetos\u001b[0m\u001b[0;34m\u001b[0m\u001b[0;34m\u001b[0m\u001b[0m\n\u001b[1;32m      2\u001b[0m \u001b[0msuma_total\u001b[0m\u001b[0;34m=\u001b[0m\u001b[0marray4\u001b[0m\u001b[0;34m.\u001b[0m\u001b[0msum\u001b[0m\u001b[0;34m(\u001b[0m\u001b[0;34m)\u001b[0m\u001b[0;34m\u001b[0m\u001b[0;34m\u001b[0m\u001b[0m\n\u001b[0;32m----> 3\u001b[0;31m \u001b[0msuma_total\u001b[0m\u001b[0;34m=\u001b[0m\u001b[0msuma_total\u001b[0m\u001b[0;34m.\u001b[0m\u001b[0mdtype\u001b[0m\u001b[0;34m(\u001b[0m\u001b[0mint\u001b[0m\u001b[0;34m)\u001b[0m\u001b[0;34m\u001b[0m\u001b[0;34m\u001b[0m\u001b[0m\n\u001b[0m\u001b[1;32m      4\u001b[0m \u001b[0msuma_total\u001b[0m\u001b[0;34m\u001b[0m\u001b[0;34m\u001b[0m\u001b[0m\n",
            "\u001b[0;31mTypeError\u001b[0m: 'numpy.dtypes.Float64DType' object is not callable"
          ]
        }
      ]
    },
    {
      "cell_type": "code",
      "source": [
        "#valor minino - maximo\n",
        "array6.max()\n",
        "array6.min()"
      ],
      "metadata": {
        "colab": {
          "base_uri": "https://localhost:8080/"
        },
        "id": "Vkx90cVN1Ay6",
        "outputId": "eb7a86f9-563d-49fc-807f-03b08c021a2b"
      },
      "execution_count": 126,
      "outputs": [
        {
          "output_type": "execute_result",
          "data": {
            "text/plain": [
              "np.float64(0.4113522532174465)"
            ]
          },
          "metadata": {},
          "execution_count": 126
        }
      ]
    },
    {
      "cell_type": "code",
      "source": [
        "#maxmo por fila\n",
        "array6.max(axis=0)\n",
        "#minimo por columana\n",
        "array6.min(axis=1)"
      ],
      "metadata": {
        "colab": {
          "base_uri": "https://localhost:8080/",
          "height": 106
        },
        "id": "MCrfAxRi1UrQ",
        "outputId": "518c1efe-fd6f-423b-8217-288d4e67f1d7"
      },
      "execution_count": 128,
      "outputs": [
        {
          "output_type": "error",
          "ename": "SyntaxError",
          "evalue": "incomplete input (ipython-input-128-1019768406.py, line 2)",
          "traceback": [
            "\u001b[0;36m  File \u001b[0;32m\"/tmp/ipython-input-128-1019768406.py\"\u001b[0;36m, line \u001b[0;32m2\u001b[0m\n\u001b[0;31m    array6.max(\u001b[0m\n\u001b[0m               ^\u001b[0m\n\u001b[0;31mSyntaxError\u001b[0m\u001b[0;31m:\u001b[0m incomplete input\n"
          ]
        }
      ]
    },
    {
      "cell_type": "code",
      "source": [
        "#fila acumulada\n",
        "arra7.cumsum(axis=1)"
      ],
      "metadata": {
        "id": "NPQi3EG610oi"
      },
      "execution_count": null,
      "outputs": []
    },
    {
      "cell_type": "code",
      "source": [
        "#media\n",
        "np.mean(arra7)"
      ],
      "metadata": {
        "id": "6WDlHA5P1-3J"
      },
      "execution_count": null,
      "outputs": []
    },
    {
      "cell_type": "code",
      "source": [
        "#mediana\n",
        "np.median(array3)"
      ],
      "metadata": {
        "id": "SHetYuka2ExL"
      },
      "execution_count": null,
      "outputs": []
    },
    {
      "cell_type": "code",
      "source": [
        "#desviacion estandar\n",
        "\n",
        "np.std(arra11)\n",
        "\n"
      ],
      "metadata": {
        "id": "La092aiP2KI7"
      },
      "execution_count": null,
      "outputs": []
    }
  ]
}