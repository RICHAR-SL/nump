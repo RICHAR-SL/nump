{
  "nbformat": 4,
  "nbformat_minor": 0,
  "metadata": {
    "colab": {
      "provenance": [],
      "include_colab_link": true
    },
    "kernelspec": {
      "name": "python3",
      "display_name": "Python 3"
    },
    "language_info": {
      "name": "python"
    }
  },
  "cells": [
    {
      "cell_type": "markdown",
      "metadata": {
        "id": "view-in-github",
        "colab_type": "text"
      },
      "source": [
        "<a href=\"https://colab.research.google.com/github/RICHAR-SL/nump/blob/main/ejercicio1.ipynb\" target=\"_parent\"><img src=\"https://colab.research.google.com/assets/colab-badge.svg\" alt=\"Open In Colab\"/></a>"
      ]
    },
    {
      "cell_type": "code",
      "execution_count": null,
      "metadata": {
        "id": "d_QLQ7Emtc1P"
      },
      "outputs": [],
      "source": []
    },
    {
      "cell_type": "markdown",
      "source": [
        "numpy, ciencia de datos"
      ],
      "metadata": {
        "id": "sAGapr9huHfj"
      }
    },
    {
      "cell_type": "code",
      "source": [
        "import numpy as np\n"
      ],
      "metadata": {
        "id": "HgE2EqJjuiHC"
      },
      "execution_count": 1,
      "outputs": []
    },
    {
      "cell_type": "code",
      "source": [
        "#1 DIMENSION\n",
        "array_1d=np.array([10,20,30])\n",
        "\n",
        "print(\"1 Dimencion\",array_1d)\n",
        "#2 Dimension\n",
        "\n",
        "array_2d=np.array([(1,2,3,4,5,6,7,8,9,10),(-1,-2,-3,-4,-5,-6,-7,-8,-9,-10)])\n",
        "\n",
        "print(\"2 Dimension\", array_2d)\n",
        "\n"
      ],
      "metadata": {
        "colab": {
          "base_uri": "https://localhost:8080/"
        },
        "collapsed": true,
        "id": "SM6UT-AZvqca",
        "outputId": "8243abac-1596-4268-c879-f8d91edb3485"
      },
      "execution_count": 2,
      "outputs": [
        {
          "output_type": "stream",
          "name": "stdout",
          "text": [
            "1 Dimencion [10 20 30]\n",
            "2 Dimension [[  1   2   3   4   5   6   7   8   9  10]\n",
            " [ -1  -2  -3  -4  -5  -6  -7  -8  -9 -10]]\n"
          ]
        }
      ]
    },
    {
      "cell_type": "code",
      "source": [
        "print(\"3 dimension\")\n",
        "array_3d=np.array([(1,2,3),(-1,-2,-3),(8,9,10)],dtype=str)\n"
      ],
      "metadata": {
        "colab": {
          "base_uri": "https://localhost:8080/"
        },
        "id": "H1MWdbyfxwjD",
        "outputId": "9940cdb1-cf07-482b-b361-4c2f6b0e7b33"
      },
      "execution_count": 3,
      "outputs": [
        {
          "output_type": "stream",
          "name": "stdout",
          "text": [
            "3 dimension\n"
          ]
        }
      ]
    },
    {
      "cell_type": "code",
      "source": [
        "print(array_3d)"
      ],
      "metadata": {
        "colab": {
          "base_uri": "https://localhost:8080/"
        },
        "id": "wNwlqjLCzcJV",
        "outputId": "2f7a94cc-947f-4bbe-cf7a-fbe229c40310"
      },
      "execution_count": 4,
      "outputs": [
        {
          "output_type": "stream",
          "name": "stdout",
          "text": [
            "[['1' '2' '3']\n",
            " ['-1' '-2' '-3']\n",
            " ['8' '9' '10']]\n"
          ]
        }
      ]
    },
    {
      "cell_type": "markdown",
      "source": [
        "arrays con ceros tres filas y 4 columnas\n"
      ],
      "metadata": {
        "id": "Z8PNW9Ga4T1D"
      }
    },
    {
      "cell_type": "code",
      "source": [
        "np.zeros((3,4))"
      ],
      "metadata": {
        "colab": {
          "base_uri": "https://localhost:8080/"
        },
        "id": "zbdD0X2K4YbD",
        "outputId": "1e33fdf2-a6b7-4ee0-f0d0-3304109f928e"
      },
      "execution_count": 5,
      "outputs": [
        {
          "output_type": "execute_result",
          "data": {
            "text/plain": [
              "array([[0., 0., 0., 0.],\n",
              "       [0., 0., 0., 0.],\n",
              "       [0., 0., 0., 0.]])"
            ]
          },
          "metadata": {},
          "execution_count": 5
        }
      ]
    },
    {
      "cell_type": "code",
      "source": [
        "#dos mineciones\n",
        "np.ones((2,4,5))"
      ],
      "metadata": {
        "colab": {
          "base_uri": "https://localhost:8080/"
        },
        "id": "ef7ieBYr4oSa",
        "outputId": "6607f3d5-a7bb-42a8-dce7-57f0468eb864"
      },
      "execution_count": 6,
      "outputs": [
        {
          "output_type": "execute_result",
          "data": {
            "text/plain": [
              "array([[[1., 1., 1., 1., 1.],\n",
              "        [1., 1., 1., 1., 1.],\n",
              "        [1., 1., 1., 1., 1.],\n",
              "        [1., 1., 1., 1., 1.]],\n",
              "\n",
              "       [[1., 1., 1., 1., 1.],\n",
              "        [1., 1., 1., 1., 1.],\n",
              "        [1., 1., 1., 1., 1.],\n",
              "        [1., 1., 1., 1., 1.]]])"
            ]
          },
          "metadata": {},
          "execution_count": 6
        }
      ]
    },
    {
      "cell_type": "markdown",
      "source": [
        "ARRAYS CON INTERVALOS\n"
      ],
      "metadata": {
        "id": "Pw6M6G685VXU"
      }
    },
    {
      "cell_type": "code",
      "source": [
        "np.arange(20,30,40)"
      ],
      "metadata": {
        "colab": {
          "base_uri": "https://localhost:8080/"
        },
        "id": "3FQSngKg5gt7",
        "outputId": "bddc9aa8-c47c-40d5-87df-9b0d5be3cc57"
      },
      "execution_count": 7,
      "outputs": [
        {
          "output_type": "execute_result",
          "data": {
            "text/plain": [
              "array([20])"
            ]
          },
          "metadata": {},
          "execution_count": 7
        }
      ]
    },
    {
      "cell_type": "code",
      "source": [
        "np.arange(10,50,2)"
      ],
      "metadata": {
        "colab": {
          "base_uri": "https://localhost:8080/"
        },
        "id": "UjslVvwW5zx7",
        "outputId": "c5d8e043-6056-4a0f-8afb-4bc8cbb6ab54"
      },
      "execution_count": 8,
      "outputs": [
        {
          "output_type": "execute_result",
          "data": {
            "text/plain": [
              "array([10, 12, 14, 16, 18, 20, 22, 24, 26, 28, 30, 32, 34, 36, 38, 40, 42,\n",
              "       44, 46, 48])"
            ]
          },
          "metadata": {},
          "execution_count": 8
        }
      ]
    },
    {
      "cell_type": "code",
      "source": [
        "#arrays con intervalos y divisiones\n",
        "np.linspace(0,4,7)"
      ],
      "metadata": {
        "colab": {
          "base_uri": "https://localhost:8080/"
        },
        "id": "UumbXbLv8B1L",
        "outputId": "0d157ff1-fa1d-4755-8e69-c7711f530284"
      },
      "execution_count": 9,
      "outputs": [
        {
          "output_type": "execute_result",
          "data": {
            "text/plain": [
              "array([0.        , 0.66666667, 1.33333333, 2.        , 2.66666667,\n",
              "       3.33333333, 4.        ])"
            ]
          },
          "metadata": {},
          "execution_count": 9
        }
      ]
    },
    {
      "cell_type": "code",
      "source": [
        "#arrays con valores dados\n",
        "np.full((3,5),7)"
      ],
      "metadata": {
        "colab": {
          "base_uri": "https://localhost:8080/"
        },
        "id": "H2bqnJV-8nVj",
        "outputId": "aabcb9f2-0869-4889-fffa-a014a1e6e737"
      },
      "execution_count": 10,
      "outputs": [
        {
          "output_type": "execute_result",
          "data": {
            "text/plain": [
              "array([[7, 7, 7, 7, 7],\n",
              "       [7, 7, 7, 7, 7],\n",
              "       [7, 7, 7, 7, 7]])"
            ]
          },
          "metadata": {},
          "execution_count": 10
        }
      ]
    },
    {
      "cell_type": "code",
      "source": [
        "#Array matriz identidad, diagonal del unos\n",
        "\n",
        "np.eye(3,3,-2)"
      ],
      "metadata": {
        "colab": {
          "base_uri": "https://localhost:8080/"
        },
        "id": "0FtbDi4887xc",
        "outputId": "8909d011-d889-465c-c11a-fdabfd9e5283"
      },
      "execution_count": 11,
      "outputs": [
        {
          "output_type": "execute_result",
          "data": {
            "text/plain": [
              "array([[0., 0., 0.],\n",
              "       [0., 0., 0.],\n",
              "       [1., 0., 0.]])"
            ]
          },
          "metadata": {},
          "execution_count": 11
        }
      ]
    },
    {
      "cell_type": "code",
      "source": [
        "#array valores aleatorios\n",
        "\n",
        "np.random.random((4,3))"
      ],
      "metadata": {
        "colab": {
          "base_uri": "https://localhost:8080/"
        },
        "id": "YFxES6xb-etu",
        "outputId": "8f052ff0-88af-405b-a2fa-cd952dc8ffae"
      },
      "execution_count": 12,
      "outputs": [
        {
          "output_type": "execute_result",
          "data": {
            "text/plain": [
              "array([[0.0497736 , 0.36944189, 0.19609556],\n",
              "       [0.5792934 , 0.44436621, 0.87252699],\n",
              "       [0.38924694, 0.69032289, 0.25130436],\n",
              "       [0.44975344, 0.33814871, 0.91987695]])"
            ]
          },
          "metadata": {},
          "execution_count": 12
        }
      ]
    },
    {
      "cell_type": "code",
      "source": [
        "#arrays de numeros vacios\n",
        "np.empty((4,3))"
      ],
      "metadata": {
        "colab": {
          "base_uri": "https://localhost:8080/"
        },
        "id": "k8fYUxSQ_IrT",
        "outputId": "5d0fc13f-416d-433b-8ded-15d194ad553c"
      },
      "execution_count": 13,
      "outputs": [
        {
          "output_type": "execute_result",
          "data": {
            "text/plain": [
              "array([[0.0497736 , 0.36944189, 0.19609556],\n",
              "       [0.5792934 , 0.44436621, 0.87252699],\n",
              "       [0.38924694, 0.69032289, 0.25130436],\n",
              "       [0.44975344, 0.33814871, 0.91987695]])"
            ]
          },
          "metadata": {},
          "execution_count": 13
        }
      ]
    },
    {
      "cell_type": "code",
      "source": [
        "#Grabar\n",
        "np.save('mi_arrays',np.random.random((3,3)))"
      ],
      "metadata": {
        "id": "HpApeWt9BsRb"
      },
      "execution_count": 14,
      "outputs": []
    },
    {
      "cell_type": "code",
      "source": [
        "#Cargar\n",
        "mi_arrays=np.load('mi_arrays.npy')\n",
        "print(mi_arrays)\n"
      ],
      "metadata": {
        "colab": {
          "base_uri": "https://localhost:8080/"
        },
        "id": "57ItSNZcCUm7",
        "outputId": "0eeb3539-4709-434b-a2af-d5888096d201"
      },
      "execution_count": 15,
      "outputs": [
        {
          "output_type": "stream",
          "name": "stdout",
          "text": [
            "[[0.27377934 0.94290018 0.42413567]\n",
            " [0.82238554 0.85681162 0.23510298]\n",
            " [0.07744396 0.63462148 0.32841452]]\n"
          ]
        }
      ]
    },
    {
      "cell_type": "code",
      "source": [
        "#Grabar\n",
        "np.save('mi_array_3d',array_3d)\n",
        "#Cargar\n",
        "mi_3d=np.load('mi_array_3d.npy')\n",
        "print(mi_3d)"
      ],
      "metadata": {
        "colab": {
          "base_uri": "https://localhost:8080/"
        },
        "id": "W0lBVkn-EYdu",
        "outputId": "d545db5b-f57c-4e02-a560-ac636ff97c26"
      },
      "execution_count": 16,
      "outputs": [
        {
          "output_type": "stream",
          "name": "stdout",
          "text": [
            "[['1' '2' '3']\n",
            " ['-1' '-2' '-3']\n",
            " ['8' '9' '10']]\n"
          ]
        }
      ]
    },
    {
      "cell_type": "markdown",
      "source": [
        "Grabar y cargar ficheros de textos\n"
      ],
      "metadata": {
        "id": "hkdeDviCE5Pr"
      }
    },
    {
      "cell_type": "code",
      "source": [
        "#grabar el fichero\n",
        "np.savetxt('hola mundo.txt', array_2d,delimiter=\" \")"
      ],
      "metadata": {
        "id": "SShawiGxE9AL"
      },
      "execution_count": 17,
      "outputs": []
    },
    {
      "cell_type": "code",
      "source": [
        "#cargar el fichero hola mundo\n",
        "np.loadtxt('hola mundo.txt')"
      ],
      "metadata": {
        "colab": {
          "base_uri": "https://localhost:8080/"
        },
        "id": "d-OI7cOUGJIU",
        "outputId": "7bb39c45-cb1d-44d2-fd52-ad12dcbbd699"
      },
      "execution_count": 18,
      "outputs": [
        {
          "output_type": "execute_result",
          "data": {
            "text/plain": [
              "array([[  1.,   2.,   3.,   4.,   5.,   6.,   7.,   8.,   9.,  10.],\n",
              "       [ -1.,  -2.,  -3.,  -4.,  -5.,  -6.,  -7.,  -8.,  -9., -10.]])"
            ]
          },
          "metadata": {},
          "execution_count": 18
        }
      ]
    },
    {
      "cell_type": "markdown",
      "source": [
        "Ejercicios\n"
      ],
      "metadata": {
        "id": "iTIwnKqLH3sS"
      }
    },
    {
      "cell_type": "markdown",
      "source": [
        "Escribir un programa que almacene las asignaturas de un curso (por ejemplo Matemáticas, Física,\n",
        "Química, Historia y Lengua) en una lista y la muestre por pantalla."
      ],
      "metadata": {
        "id": "Uo8BDqkMH5ur"
      }
    },
    {
      "cell_type": "code",
      "source": [
        "\n",
        "materias=np.array(['Matemárica','Física','Química','Historia','Lenguaje'])\n",
        "#guardar\n",
        "materias=np.save('ejer1',materias)\n"
      ],
      "metadata": {
        "id": "k3L9ibrFH-5j"
      },
      "execution_count": 19,
      "outputs": []
    },
    {
      "cell_type": "code",
      "source": [
        "np.load('ejer1.npy')"
      ],
      "metadata": {
        "colab": {
          "base_uri": "https://localhost:8080/"
        },
        "id": "0jr2KdiPI_l9",
        "outputId": "54769e07-fc86-49c9-8aff-07a5935687e9"
      },
      "execution_count": 20,
      "outputs": [
        {
          "output_type": "execute_result",
          "data": {
            "text/plain": [
              "array(['Matemárica', 'Física', 'Química', 'Historia', 'Lenguaje'],\n",
              "      dtype='<U10')"
            ]
          },
          "metadata": {},
          "execution_count": 20
        }
      ]
    },
    {
      "cell_type": "markdown",
      "source": [
        "Ejercicio 2\n",
        "Escribir un programa que almacene las asignaturas de un curso (por ejemplo Matemáticas, Física,\n",
        "Química, Historia y Lengua) en una lista y la muestre por pantalla el mensaje Yo estudio\n",
        "<asignatura>, donde <asignatura> es cada una de las asignaturas de la lista."
      ],
      "metadata": {
        "id": "MOzRpbcYJOXE"
      }
    },
    {
      "cell_type": "markdown",
      "source": [],
      "metadata": {
        "id": "c5WsIvh9K5Jo"
      }
    },
    {
      "cell_type": "code",
      "source": [
        "cursos=np.array(['Matemárica','Física','Química','Historia','Lenguaje'])\n",
        "\n",
        "longitud = len(cursos)\n",
        "print(f\"La longitud de la lista es: {longitud}\")\n",
        "curso_estudio=[]\n",
        "for i in range(longitud):\n",
        "    mensaje = f\"Yo estudio: {cursos[i]}\"\n",
        "    print(mensaje)\n",
        "    curso_estudio.append(mensaje)\n",
        "\n",
        "\n",
        "\n",
        "\n",
        "#guardar\n",
        "cursos=np.save('ejer2',curso_estudio)\n",
        "\n"
      ],
      "metadata": {
        "colab": {
          "base_uri": "https://localhost:8080/"
        },
        "id": "lqeWXQx6JR_8",
        "outputId": "2f39a77d-7f2f-4756-a99e-9411b9586036"
      },
      "execution_count": 21,
      "outputs": [
        {
          "output_type": "stream",
          "name": "stdout",
          "text": [
            "La longitud de la lista es: 5\n",
            "Yo estudio: Matemárica\n",
            "Yo estudio: Física\n",
            "Yo estudio: Química\n",
            "Yo estudio: Historia\n",
            "Yo estudio: Lenguaje\n"
          ]
        }
      ]
    },
    {
      "cell_type": "code",
      "source": [
        "np.load('ejer2.npy')"
      ],
      "metadata": {
        "colab": {
          "base_uri": "https://localhost:8080/"
        },
        "id": "ZjeRfFoaP-vt",
        "outputId": "8521b967-c950-442e-e8bc-9abf75ee464a"
      },
      "execution_count": 22,
      "outputs": [
        {
          "output_type": "execute_result",
          "data": {
            "text/plain": [
              "array(['Yo estudio: Matemárica', 'Yo estudio: Física',\n",
              "       'Yo estudio: Química', 'Yo estudio: Historia',\n",
              "       'Yo estudio: Lenguaje'], dtype='<U22')"
            ]
          },
          "metadata": {},
          "execution_count": 22
        }
      ]
    },
    {
      "cell_type": "markdown",
      "source": [
        "Ejercicio 3\n",
        "Escribir un programa que almacene las asignaturas de un curso (por ejemplo Matemáticas, Física,\n",
        "Química, Historia y Lengua) en una lista, pregunte al usuario la nota que ha sacado en cada\n",
        "asignatura, y después las muestre por pantalla con el mensaje En 'asignatura' has sacado 'nota'\n",
        "donde 'asignatura' es cada una des las asignaturas de la lista y 'nota' cada una de las\n",
        "correspondientes notas introducidas por el usuario."
      ],
      "metadata": {
        "id": "nq8PdkBbQDZK"
      }
    },
    {
      "cell_type": "code",
      "source": [
        "\n",
        "cursos = np.array(['Matemática', 'Física', 'Química', 'Historia', 'Lenguaje'])\n",
        "\n",
        "longitud = len(cursos)\n",
        "notas = []\n",
        "curso_nota = []\n",
        "\n",
        "for i in range(longitud):\n",
        "    mensaje = input(f\"Nota en {cursos[i]}: \")\n",
        "    notas.append(mensaje)\n",
        "\n",
        "for j in range(longitud):\n",
        "    notas_texto = f\"En {cursos[j]} sacaste : {notas[j]}\"\n",
        "    curso_nota.append(notas_texto)\n",
        "\n",
        "#guardar\n",
        "cursos=np.save('ejer3',curso_nota)\n"
      ],
      "metadata": {
        "colab": {
          "base_uri": "https://localhost:8080/"
        },
        "id": "o5jp7OTeQSal",
        "outputId": "7e5dc504-601a-472c-9f3b-2f83dc5b8199"
      },
      "execution_count": 24,
      "outputs": [
        {
          "name": "stdout",
          "output_type": "stream",
          "text": [
            "Nota en Matemática: 5\n",
            "Nota en Física: 4\n",
            "Nota en Química: 11\n",
            "Nota en Historia: 45\n",
            "Nota en Lenguaje: 5\n"
          ]
        }
      ]
    },
    {
      "cell_type": "code",
      "source": [
        "#cargar\n",
        "np.load('ejer3.npy')"
      ],
      "metadata": {
        "colab": {
          "base_uri": "https://localhost:8080/"
        },
        "id": "Pu3oRettRNrr",
        "outputId": "875bbd74-23c0-4574-9207-cbfda6faf223"
      },
      "execution_count": 25,
      "outputs": [
        {
          "output_type": "execute_result",
          "data": {
            "text/plain": [
              "array(['En Matemática sacaste : 5', 'En Física sacaste : 4',\n",
              "       'En Química sacaste : 11', 'En Historia sacaste : 45',\n",
              "       'En Lenguaje sacaste : 5'], dtype='<U25')"
            ]
          },
          "metadata": {},
          "execution_count": 25
        }
      ]
    },
    {
      "cell_type": "markdown",
      "source": [
        "Ejercicio 4\n",
        "Escribir un programa que pregunte al usuario los números ganadores de la lotería primitiva, los\n",
        "almacene en una lista y los muestre por pantalla ordenados de menor a mayor."
      ],
      "metadata": {
        "id": "QHUA8c_8VL4q"
      }
    },
    {
      "cell_type": "code",
      "source": [
        "numeros_ganadores = []\n",
        "print(\"Introduce los números ganadores de la lotería primitiva:\")\n",
        "\n",
        "for i in range(6):\n",
        "    while True:\n",
        "            num = int(input(f\"Número {i+1}: \"))\n",
        "            if num < 1 or num > 50:\n",
        "                print(\"Por favor, introduce un número entre 1 y 49.\")\n",
        "            else:\n",
        "                numeros_ganadores.append(num)\n",
        "                break\n",
        "\n",
        "\n",
        "# Ordenar la lista de menor a mayor\n",
        "numeros_ganadores.sort()\n",
        "print(numeros_ganadores)\n",
        "#guardar\n",
        "loteria=np.save('ejer4',numeros_ganadores)\n"
      ],
      "metadata": {
        "id": "CbXAm8VyVO_7"
      },
      "execution_count": null,
      "outputs": []
    },
    {
      "cell_type": "code",
      "source": [
        "#cargar\n",
        "np.load('ejer4.npy')"
      ],
      "metadata": {
        "id": "xVWh_gfpWhPc"
      },
      "execution_count": null,
      "outputs": []
    },
    {
      "cell_type": "markdown",
      "source": [
        "Ejercicio 5\n",
        "Escribir un programa que almacene en una lista los números del 1 al 10 y los muestre por pantalla\n",
        "en orden inverso separados por comas.\n"
      ],
      "metadata": {
        "id": "BO0EZ4c3XEUD"
      }
    },
    {
      "cell_type": "code",
      "source": [
        "# Crear la lista con números del 1 al 10\n",
        "\n",
        "numeros =np.array(range(1, 11))\n",
        "\n",
        "numeros_invertidos=numeros[::-1]\n",
        "\n",
        "# Convertir los números a strings para unirlos con comas\n",
        "numeros_str = [str(num) for num in numeros_invertidos]\n",
        "\n",
        "# Mostrar los números separados por comas\n",
        "print(\", \".join(numeros_str))\n",
        "\n",
        "#guardar\n",
        "invertidos=np.save('ejer5',numeros_str)"
      ],
      "metadata": {
        "id": "cWWezw5rXGcD"
      },
      "execution_count": null,
      "outputs": []
    },
    {
      "cell_type": "code",
      "source": [
        "#cargar\n",
        "np.load('ejer5.npy')"
      ],
      "metadata": {
        "id": "kLs6iONiZXED"
      },
      "execution_count": null,
      "outputs": []
    },
    {
      "cell_type": "markdown",
      "source": [
        "Ejercicio 6\n",
        "Escribir un programa que almacene las asignaturas de un curso (por ejemplo Matemáticas, Física,\n",
        "Química, Historia y Lengua) en una lista, pregunte al usuario la nota que ha sacado en cada\n",
        "asignatura y elimine de la lista las asignaturas aprobadas. Al final el programa debe mostrar por\n",
        "pantalla las asignaturas que el usuario tiene que repetir.\n"
      ],
      "metadata": {
        "id": "1a3180puaRnj"
      }
    },
    {
      "cell_type": "code",
      "source": [
        "asignaturas = [\"Matemáticas\", \"Física\", \"Química\", \"Historia\", \"Lengua\"]\n",
        "notas = []\n",
        "\n",
        "# Recolectar las notas\n",
        "for asignatura in asignaturas:\n",
        "    while True:\n",
        "        try:\n",
        "            nota = float(input(f\"¿Qué nota has sacado en {asignatura}? \"))\n",
        "            if 0 <= nota <= 20:\n",
        "                notas.append(nota)\n",
        "                break\n",
        "            else:\n",
        "                print(\"La nota debe estar entre 0 y 20.\")\n",
        "        except ValueError:\n",
        "            print(\"Por favor, ingresa un número válido.\")\n",
        "\n",
        "# Determinar qué asignaturas se deben repetir\n",
        "asignaturas_a_repetir = []\n",
        "\n",
        "for i in range(len(notas)):\n",
        "    if notas[i] <= 10:\n",
        "        asignaturas_a_repetir.append(f\"{asignaturas[i]} (Nota: {notas[i]})\")\n",
        "\n",
        "# Mostrar resultado\n",
        "print(\"\\nDebes repetir las siguientes asignaturas:\")\n",
        "if asignaturas_a_repetir:\n",
        "    for rep in asignaturas_a_repetir:\n",
        "        print(f\"- {rep}\")\n",
        "else:\n",
        "    print(\"No debes repetir ninguna asignatura.\")\n",
        "\n",
        "\n",
        "\n",
        "# Guardar en archivo numpy\n",
        "np.save('ejer6', asignaturas_a_repetir)"
      ],
      "metadata": {
        "colab": {
          "base_uri": "https://localhost:8080/"
        },
        "id": "IeJzy_lqaUz1",
        "outputId": "814c145c-5f85-484b-e01e-7abfd44ad137"
      },
      "execution_count": 43,
      "outputs": [
        {
          "output_type": "stream",
          "name": "stdout",
          "text": [
            "¿Qué nota has sacado en Matemáticas? 1\n",
            "¿Qué nota has sacado en Física? 2\n",
            "¿Qué nota has sacado en Química? 20\n",
            "¿Qué nota has sacado en Historia? 10\n",
            "¿Qué nota has sacado en Lengua? 11\n",
            "\n",
            "Debes repetir las siguientes asignaturas:\n",
            "- Matemáticas (Nota: 1.0)\n",
            "- Física (Nota: 2.0)\n",
            "- Historia (Nota: 10.0)\n"
          ]
        }
      ]
    },
    {
      "cell_type": "code",
      "source": [
        "# Cargar archivo y mostrar contenido\n",
        "np.load('ejer6.npy')"
      ],
      "metadata": {
        "colab": {
          "base_uri": "https://localhost:8080/"
        },
        "id": "GaLFoY4XU9lT",
        "outputId": "1ba6288b-3040-4cb8-b801-1cbcb143df0a"
      },
      "execution_count": 49,
      "outputs": [
        {
          "output_type": "execute_result",
          "data": {
            "text/plain": [
              "array(['Matemáticas (Nota: 1.0)', 'Física (Nota: 2.0)',\n",
              "       'Historia (Nota: 10.0)'], dtype='<U23')"
            ]
          },
          "metadata": {},
          "execution_count": 49
        }
      ]
    },
    {
      "cell_type": "markdown",
      "source": [
        "Ejercicio 7\n",
        "Escribir un programa que almacene el abecedario en una lista, elimine de la lista las letras que\n",
        "ocupen posiciones múltiplos de 3, y muestre por pantalla la lista resultante."
      ],
      "metadata": {
        "id": "9KE389pJXfRS"
      }
    },
    {
      "cell_type": "code",
      "source": [
        "\n",
        "import string\n",
        "\n",
        "abecedario = list(string.ascii_lowercase)\n",
        "resultado = [letra for i, letra in enumerate(abecedario, start=1) if i % 3 != 0]\n",
        "\n",
        "np.save('ej7.npy', np.array(resultado))\n",
        "\n"
      ],
      "metadata": {
        "id": "NTWxpZTwXf-T"
      },
      "execution_count": 54,
      "outputs": []
    },
    {
      "cell_type": "code",
      "source": [
        "cargado = np.load('ej7.npy')\n",
        "print(\"Resultado Ejercicio 7:\", list(cargado))"
      ],
      "metadata": {
        "colab": {
          "base_uri": "https://localhost:8080/"
        },
        "id": "R72qts2gb80M",
        "outputId": "a8cef243-0a54-4e62-dc2e-7927a92d9324"
      },
      "execution_count": 55,
      "outputs": [
        {
          "output_type": "stream",
          "name": "stdout",
          "text": [
            "Resultado Ejercicio 7: [np.str_('a'), np.str_('b'), np.str_('d'), np.str_('e'), np.str_('g'), np.str_('h'), np.str_('j'), np.str_('k'), np.str_('m'), np.str_('n'), np.str_('p'), np.str_('q'), np.str_('s'), np.str_('t'), np.str_('v'), np.str_('w'), np.str_('y'), np.str_('z')]\n"
          ]
        }
      ]
    },
    {
      "cell_type": "markdown",
      "source": [
        "Ejercicio 8\n",
        "Escribir un programa que pida al usuario una palabra y muestre por pantalla si es un palíndromo"
      ],
      "metadata": {
        "id": "ZqcuRQQ8Xola"
      }
    },
    {
      "cell_type": "code",
      "source": [
        "\n",
        "\n",
        "palabra = input(\"Introduce una palabra: \").lower()\n",
        "es_palindromo =np.array( palabra == palabra[::-1])\n",
        "\n",
        "np.save('ej8.npy', es_palindromo)\n",
        "\n",
        "\n",
        "print(\"¿Es palíndromo?\", \"Sí\" if resultado else \"No\")\n"
      ],
      "metadata": {
        "colab": {
          "base_uri": "https://localhost:8080/"
        },
        "id": "E-_V61WZXhIk",
        "outputId": "a71da8c8-0e8c-4e66-8c36-059796a4a67a"
      },
      "execution_count": 64,
      "outputs": [
        {
          "output_type": "stream",
          "name": "stdout",
          "text": [
            "Introduce una palabra: anilina\n",
            "¿Es palíndromo? Sí\n"
          ]
        }
      ]
    },
    {
      "cell_type": "code",
      "source": [
        " np.load('ej8.npy')\n"
      ],
      "metadata": {
        "colab": {
          "base_uri": "https://localhost:8080/"
        },
        "id": "39rnLO2kcajy",
        "outputId": "909837ff-e591-4536-91be-847f5e920490"
      },
      "execution_count": 65,
      "outputs": [
        {
          "output_type": "execute_result",
          "data": {
            "text/plain": [
              "array(True)"
            ]
          },
          "metadata": {},
          "execution_count": 65
        }
      ]
    },
    {
      "cell_type": "markdown",
      "source": [
        "Ejercicio 9\n",
        "Escribir un programa que pida al usuario una palabra y muestre por pantalla el número de veces\n",
        "que contiene cada vocal.\n"
      ],
      "metadata": {
        "id": "acIA6XgXXqQ6"
      }
    },
    {
      "cell_type": "code",
      "source": [
        "\n",
        "\n",
        "palabra = input(\"Introduce una palabra: \").lower()\n",
        "vocales = \"aeiou\"\n",
        "conteo=[]\n",
        "for v in vocales:\n",
        "  conteo.append(palabra.count(v))\n",
        "\n",
        "\n",
        "\n",
        "np.save('ej9.npy',np.array(conteo))"
      ],
      "metadata": {
        "colab": {
          "base_uri": "https://localhost:8080/"
        },
        "id": "aAGyBvRUXhXa",
        "outputId": "3034f7bc-153e-4aab-8878-776718a37d48"
      },
      "execution_count": 87,
      "outputs": [
        {
          "name": "stdout",
          "output_type": "stream",
          "text": [
            "Introduce una palabra: holaa\n"
          ]
        }
      ]
    },
    {
      "cell_type": "code",
      "source": [
        "cargadoooo = np.load('ej9.npy')\n",
        "print(\"Cantidad de vocales (a, e, i, o, u):\", cargadoooo)"
      ],
      "metadata": {
        "colab": {
          "base_uri": "https://localhost:8080/"
        },
        "id": "CzlybfgCdSLT",
        "outputId": "b0ebd945-834b-4266-a0a9-de42e32e50e7"
      },
      "execution_count": 88,
      "outputs": [
        {
          "output_type": "stream",
          "name": "stdout",
          "text": [
            "Cantidad de vocales (a, e, i, o, u): [2 0 0 1 0]\n"
          ]
        }
      ]
    },
    {
      "cell_type": "markdown",
      "source": [
        "Ejercicio 10\n",
        "Escribir un programa que almacene en una lista los siguientes precios, 50, 75, 46, 22, 80, 65, 8, y\n",
        "muestre por pantalla el menor y el mayor de los precios"
      ],
      "metadata": {
        "id": "veK3l9xTXt-C"
      }
    },
    {
      "cell_type": "code",
      "source": [
        "\n",
        "\n",
        "precios = np.array([50, 75, 46, 22, 80, 65, 8])\n",
        "np.save('ej10.npy', precios)\n",
        "\n",
        "\n"
      ],
      "metadata": {
        "id": "-uv7RXcgXhjy"
      },
      "execution_count": 89,
      "outputs": []
    },
    {
      "cell_type": "code",
      "source": [
        "cargado = np.load('ej10.npy')\n",
        "print(\"Menor precio:\", np.min(cargado))\n",
        "print(\"Mayor precio:\", np.max(cargado))"
      ],
      "metadata": {
        "colab": {
          "base_uri": "https://localhost:8080/"
        },
        "id": "PnyTsDmvhXg0",
        "outputId": "5f38206a-d234-4535-c70e-f837d1debb1a"
      },
      "execution_count": 90,
      "outputs": [
        {
          "output_type": "stream",
          "name": "stdout",
          "text": [
            "Menor precio: 8\n",
            "Mayor precio: 80\n"
          ]
        }
      ]
    },
    {
      "cell_type": "markdown",
      "source": [
        "Ejercicio 11\n",
        "Escribir un programa que almacene los vectores (1,2,3) y (-1,0,2) en dos listas y muestre por\n",
        "pantalla su producto escalar.\n"
      ],
      "metadata": {
        "id": "v2U2-zhjXv_i"
      }
    },
    {
      "cell_type": "code",
      "source": [
        "\n",
        "\n",
        "v1 = np.array([1, 2, 3])\n",
        "v2 = np.array([-1, 0, 2])\n",
        "producto = np.dot(v1, v2)\n",
        "producto=np.array(producto)\n",
        "np.save('ej11.npy',producto )\n",
        "\n"
      ],
      "metadata": {
        "id": "mNiOCwIxXh5S"
      },
      "execution_count": 97,
      "outputs": []
    },
    {
      "cell_type": "code",
      "source": [
        "cargado = np.load('ej11.npy')\n",
        "print(\"Producto escalar:\", cargado)"
      ],
      "metadata": {
        "colab": {
          "base_uri": "https://localhost:8080/"
        },
        "id": "bhHQS-cZiIBz",
        "outputId": "fa436189-f9fe-4a7b-cdd1-88be6b18f209"
      },
      "execution_count": 98,
      "outputs": [
        {
          "output_type": "stream",
          "name": "stdout",
          "text": [
            "Producto escalar: 7\n"
          ]
        }
      ]
    },
    {
      "cell_type": "markdown",
      "source": [
        "Ejercicio 12\n",
        "Escribir un programa que almacene las matrices en una lista y muestre por pantalla su producto.\n",
        "Nota: Para representar matrices mediante listas usar listas anidadas, representando cada vector\n",
        "fila en una lista."
      ],
      "metadata": {
        "id": "z1ekcpyOXxzj"
      }
    },
    {
      "cell_type": "code",
      "source": [
        "\n",
        "\n",
        "matriz1 = np.array([[1, 2], [3, 4]])\n",
        "matriz2 = np.array([[2, 0], [1, 2]])\n",
        "producto = np.matmul(matriz1, matriz2)\n",
        "\n",
        "np.save('ej12.npy', producto)\n",
        "\n"
      ],
      "metadata": {
        "id": "WOcnv74LXzLS"
      },
      "execution_count": 100,
      "outputs": []
    },
    {
      "cell_type": "code",
      "source": [
        "cargado = np.load('ej12.npy')\n",
        "print(\"Producto de matrices:\\n\", cargado)"
      ],
      "metadata": {
        "colab": {
          "base_uri": "https://localhost:8080/"
        },
        "id": "mp_t6qU4jCoU",
        "outputId": "9539a52c-c855-4041-db5f-36d92f5cb57d"
      },
      "execution_count": 101,
      "outputs": [
        {
          "output_type": "stream",
          "name": "stdout",
          "text": [
            "Producto de matrices:\n",
            " [[ 4  4]\n",
            " [10  8]]\n"
          ]
        }
      ]
    },
    {
      "cell_type": "markdown",
      "source": [
        "Ejercicio 13\n",
        "Escribir un programa que pregunte por una muestra de números, separados por comas, los guarde\n",
        "en una lista y muestre por pantalla su media y desviación típica."
      ],
      "metadata": {
        "id": "ObkCdW0wXzZa"
      }
    },
    {
      "cell_type": "code",
      "source": [
        "# Paso 1: Pedir al usuario los números separados por comas\n",
        "entrada = input(\"Introduce números separados por comas: \")\n",
        "# Paso 2: Separar los números y convertirlos en flotantes\n",
        "lista_numeros = entrada.split(\",\")  # convierte \"10,20,30\" → [\"10\", \"20\", \"30\"]\n",
        "numeros = []\n",
        "for x in lista_numeros:\n",
        "    numeros.append(float(x))  # convierte string a float\n",
        "numeros_array = np.array(numeros)\n",
        "media = np.mean(numeros_array)\n",
        "desviacion = np.std(numeros_array)\n",
        "\n",
        "resultado = np.array([media, desviacion])\n",
        "\n",
        "np.save('ej13.npy', resultado)\n",
        "\n",
        "\n"
      ],
      "metadata": {
        "colab": {
          "base_uri": "https://localhost:8080/"
        },
        "id": "rCk6FBk1X1Zb",
        "outputId": "32cf348f-78d2-4c03-dcd3-0c66b21d5d81"
      },
      "execution_count": 105,
      "outputs": [
        {
          "name": "stdout",
          "output_type": "stream",
          "text": [
            "Introduce números separados por comas: 2,2,2,2,5,5,4,1,6,2,4\n"
          ]
        }
      ]
    },
    {
      "cell_type": "code",
      "source": [
        "# Cargar y mostrar el resultado\n",
        "cargado = np.load('ej13.npy')\n",
        "print(f\"Media: {cargado[0]:.2f}\")\n",
        "print(f\"Desviación típica: {cargado[1]:.2f}\")"
      ],
      "metadata": {
        "colab": {
          "base_uri": "https://localhost:8080/"
        },
        "id": "og59KPXMj5XE",
        "outputId": "7579829c-a47e-4854-e669-abd8c0bd22c6"
      },
      "execution_count": 106,
      "outputs": [
        {
          "output_type": "stream",
          "name": "stdout",
          "text": [
            "Media: 3.18\n",
            "Desviación típica: 1.59\n"
          ]
        }
      ]
    }
  ]
}