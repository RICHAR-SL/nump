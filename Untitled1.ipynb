{
  "nbformat": 4,
  "nbformat_minor": 0,
  "metadata": {
    "colab": {
      "provenance": [],
      "authorship_tag": "ABX9TyO13eXdRW/HqW+Dlk3Xn2Fa",
      "include_colab_link": true
    },
    "kernelspec": {
      "name": "python3",
      "display_name": "Python 3"
    },
    "language_info": {
      "name": "python"
    }
  },
  "cells": [
    {
      "cell_type": "markdown",
      "metadata": {
        "id": "view-in-github",
        "colab_type": "text"
      },
      "source": [
        "<a href=\"https://colab.research.google.com/github/RICHAR-SL/nump/blob/main/Untitled1.ipynb\" target=\"_parent\"><img src=\"https://colab.research.google.com/assets/colab-badge.svg\" alt=\"Open In Colab\"/></a>"
      ]
    },
    {
      "cell_type": "code",
      "execution_count": null,
      "metadata": {
        "id": "d_QLQ7Emtc1P"
      },
      "outputs": [],
      "source": []
    },
    {
      "cell_type": "markdown",
      "source": [
        "numpy, ciencia de datos"
      ],
      "metadata": {
        "id": "sAGapr9huHfj"
      }
    },
    {
      "cell_type": "code",
      "source": [
        "import numpy as np\n"
      ],
      "metadata": {
        "id": "HgE2EqJjuiHC"
      },
      "execution_count": 1,
      "outputs": []
    },
    {
      "cell_type": "code",
      "source": [
        "#1 DIMENSION\n",
        "array_1d=np.array([10,20,30])\n",
        "\n",
        "print(\"1 Dimencion\",array_1d)\n",
        "#2 Dimension\n",
        "\n",
        "array_2d=np.array([(1,2,3,4,5,6,7,8,9,10),(-1,-2,-3,-4,-5,-6,-7,-8,-9,-10)])\n",
        "\n",
        "print(\"2 Dimension\", array_2d)\n",
        "\n"
      ],
      "metadata": {
        "colab": {
          "base_uri": "https://localhost:8080/"
        },
        "collapsed": true,
        "id": "SM6UT-AZvqca",
        "outputId": "aec1ed5c-257b-4820-b81c-1678a6a8c653"
      },
      "execution_count": 2,
      "outputs": [
        {
          "output_type": "stream",
          "name": "stdout",
          "text": [
            "1 Dimencion [10 20 30]\n",
            "2 Dimension [[  1   2   3   4   5   6   7   8   9  10]\n",
            " [ -1  -2  -3  -4  -5  -6  -7  -8  -9 -10]]\n"
          ]
        }
      ]
    },
    {
      "cell_type": "code",
      "source": [
        "print(\"3 dimension\")\n",
        "array_3d=np.array([(1,2,3),(-1,-2,-3),(8,9,10)],dtype=str)\n"
      ],
      "metadata": {
        "colab": {
          "base_uri": "https://localhost:8080/"
        },
        "id": "H1MWdbyfxwjD",
        "outputId": "373ca16f-ea32-43eb-fe77-e336c6ae3e51"
      },
      "execution_count": 8,
      "outputs": [
        {
          "output_type": "stream",
          "name": "stdout",
          "text": [
            "3 dimension\n"
          ]
        }
      ]
    },
    {
      "cell_type": "code",
      "source": [
        "print(array_3d)"
      ],
      "metadata": {
        "colab": {
          "base_uri": "https://localhost:8080/"
        },
        "id": "wNwlqjLCzcJV",
        "outputId": "ecbcf61f-bc15-4c0c-ba74-a5b93c72630a"
      },
      "execution_count": 9,
      "outputs": [
        {
          "output_type": "stream",
          "name": "stdout",
          "text": [
            "[['1' '2' '3']\n",
            " ['-1' '-2' '-3']\n",
            " ['8' '9' '10']]\n"
          ]
        }
      ]
    },
    {
      "cell_type": "markdown",
      "source": [
        "arrays con ceros tres filas y 4 columnas\n"
      ],
      "metadata": {
        "id": "Z8PNW9Ga4T1D"
      }
    },
    {
      "cell_type": "code",
      "source": [
        "np.zeros((3,4))"
      ],
      "metadata": {
        "colab": {
          "base_uri": "https://localhost:8080/"
        },
        "id": "zbdD0X2K4YbD",
        "outputId": "8a70e9b1-6885-4673-f80b-46460f0c56ec"
      },
      "execution_count": 10,
      "outputs": [
        {
          "output_type": "execute_result",
          "data": {
            "text/plain": [
              "array([[0., 0., 0., 0.],\n",
              "       [0., 0., 0., 0.],\n",
              "       [0., 0., 0., 0.]])"
            ]
          },
          "metadata": {},
          "execution_count": 10
        }
      ]
    },
    {
      "cell_type": "code",
      "source": [
        "#dos mineciones\n",
        "np.ones((2,4,5))"
      ],
      "metadata": {
        "colab": {
          "base_uri": "https://localhost:8080/"
        },
        "id": "ef7ieBYr4oSa",
        "outputId": "00f11d8f-6eb0-400f-c9b3-3118ff5a3803"
      },
      "execution_count": 11,
      "outputs": [
        {
          "output_type": "execute_result",
          "data": {
            "text/plain": [
              "array([[[1., 1., 1., 1., 1.],\n",
              "        [1., 1., 1., 1., 1.],\n",
              "        [1., 1., 1., 1., 1.],\n",
              "        [1., 1., 1., 1., 1.]],\n",
              "\n",
              "       [[1., 1., 1., 1., 1.],\n",
              "        [1., 1., 1., 1., 1.],\n",
              "        [1., 1., 1., 1., 1.],\n",
              "        [1., 1., 1., 1., 1.]]])"
            ]
          },
          "metadata": {},
          "execution_count": 11
        }
      ]
    },
    {
      "cell_type": "markdown",
      "source": [
        "ARRAYS CON INTERVALOS\n"
      ],
      "metadata": {
        "id": "Pw6M6G685VXU"
      }
    },
    {
      "cell_type": "code",
      "source": [
        "np.arange(20,30,40)"
      ],
      "metadata": {
        "colab": {
          "base_uri": "https://localhost:8080/"
        },
        "id": "3FQSngKg5gt7",
        "outputId": "dec58266-008a-4247-b03e-779a57ee9faa"
      },
      "execution_count": 12,
      "outputs": [
        {
          "output_type": "execute_result",
          "data": {
            "text/plain": [
              "array([20])"
            ]
          },
          "metadata": {},
          "execution_count": 12
        }
      ]
    },
    {
      "cell_type": "code",
      "source": [
        "np.arange(10,50,2)"
      ],
      "metadata": {
        "colab": {
          "base_uri": "https://localhost:8080/"
        },
        "id": "UjslVvwW5zx7",
        "outputId": "d47ef663-22c4-4f10-f356-d44756851f5e"
      },
      "execution_count": 13,
      "outputs": [
        {
          "output_type": "execute_result",
          "data": {
            "text/plain": [
              "array([10, 12, 14, 16, 18, 20, 22, 24, 26, 28, 30, 32, 34, 36, 38, 40, 42,\n",
              "       44, 46, 48])"
            ]
          },
          "metadata": {},
          "execution_count": 13
        }
      ]
    },
    {
      "cell_type": "code",
      "source": [
        "#arrays con intervalos y divisiones\n",
        "np.linspace(0,4,7)"
      ],
      "metadata": {
        "colab": {
          "base_uri": "https://localhost:8080/"
        },
        "id": "UumbXbLv8B1L",
        "outputId": "dff6ce9e-c858-4c42-ad90-4dfe1645452e"
      },
      "execution_count": 24,
      "outputs": [
        {
          "output_type": "execute_result",
          "data": {
            "text/plain": [
              "array([0.        , 0.66666667, 1.33333333, 2.        , 2.66666667,\n",
              "       3.33333333, 4.        ])"
            ]
          },
          "metadata": {},
          "execution_count": 24
        }
      ]
    },
    {
      "cell_type": "code",
      "source": [
        "#arrays con valores dados\n",
        "np.full((3,5),7)"
      ],
      "metadata": {
        "colab": {
          "base_uri": "https://localhost:8080/"
        },
        "id": "H2bqnJV-8nVj",
        "outputId": "aa5a1124-6bc4-44a1-884a-6ead0be208d1"
      },
      "execution_count": 26,
      "outputs": [
        {
          "output_type": "execute_result",
          "data": {
            "text/plain": [
              "array([[7, 7, 7, 7, 7],\n",
              "       [7, 7, 7, 7, 7],\n",
              "       [7, 7, 7, 7, 7]])"
            ]
          },
          "metadata": {},
          "execution_count": 26
        }
      ]
    },
    {
      "cell_type": "code",
      "source": [
        "#Array matriz identidad, diagonal del unos\n",
        "\n",
        "np.eye(3,3,-2)"
      ],
      "metadata": {
        "colab": {
          "base_uri": "https://localhost:8080/"
        },
        "id": "0FtbDi4887xc",
        "outputId": "8be7b304-6bb0-41c9-8cef-2624d5d217fd"
      },
      "execution_count": 60,
      "outputs": [
        {
          "output_type": "execute_result",
          "data": {
            "text/plain": [
              "array([[0., 0., 0.],\n",
              "       [0., 0., 0.],\n",
              "       [1., 0., 0.]])"
            ]
          },
          "metadata": {},
          "execution_count": 60
        }
      ]
    },
    {
      "cell_type": "code",
      "source": [
        "#array valores aleatorios\n",
        "\n",
        "np.random.random((4,3))"
      ],
      "metadata": {
        "colab": {
          "base_uri": "https://localhost:8080/"
        },
        "id": "YFxES6xb-etu",
        "outputId": "d069730b-569f-428d-ee1e-9186bab52739"
      },
      "execution_count": 64,
      "outputs": [
        {
          "output_type": "execute_result",
          "data": {
            "text/plain": [
              "array([[0.5364451 , 0.54550771, 0.73896757],\n",
              "       [0.89131707, 0.67061519, 0.36815945],\n",
              "       [0.47185491, 0.36167408, 0.29606505],\n",
              "       [0.97320222, 0.60290776, 0.27151962]])"
            ]
          },
          "metadata": {},
          "execution_count": 64
        }
      ]
    },
    {
      "cell_type": "code",
      "source": [
        "#arrays de numeros vacios\n",
        "np.empty((4,3))"
      ],
      "metadata": {
        "colab": {
          "base_uri": "https://localhost:8080/"
        },
        "id": "k8fYUxSQ_IrT",
        "outputId": "7c9fcb1c-3792-4970-ad45-cd4b7e963cad"
      },
      "execution_count": 65,
      "outputs": [
        {
          "output_type": "execute_result",
          "data": {
            "text/plain": [
              "array([[0.5364451 , 0.54550771, 0.73896757],\n",
              "       [0.89131707, 0.67061519, 0.36815945],\n",
              "       [0.47185491, 0.36167408, 0.29606505],\n",
              "       [0.97320222, 0.60290776, 0.27151962]])"
            ]
          },
          "metadata": {},
          "execution_count": 65
        }
      ]
    },
    {
      "cell_type": "code",
      "source": [
        "#Grabar\n",
        "np.save('mi_arrays',np.random.random((3,3)))"
      ],
      "metadata": {
        "id": "HpApeWt9BsRb"
      },
      "execution_count": 72,
      "outputs": []
    },
    {
      "cell_type": "code",
      "source": [
        "#Cargar\n",
        "mi_arrays=np.load('mi_arrays.npy')\n",
        "print(mi_arrays)\n"
      ],
      "metadata": {
        "colab": {
          "base_uri": "https://localhost:8080/"
        },
        "id": "57ItSNZcCUm7",
        "outputId": "e3243f9b-3236-4a85-a333-13de966e7110"
      },
      "execution_count": 77,
      "outputs": [
        {
          "output_type": "stream",
          "name": "stdout",
          "text": [
            "[[0.20541743 0.76251473 0.14567674]\n",
            " [0.37000261 0.73733507 0.22470689]\n",
            " [0.1591853  0.51050055 0.30716225]]\n"
          ]
        }
      ]
    },
    {
      "cell_type": "code",
      "source": [
        "#Grabar\n",
        "np.save('mi_array_3d',array_3d)\n",
        "#Cargar\n",
        "mi_3d=np.load('mi_array_3d.npy')\n",
        "print(mi_3d)"
      ],
      "metadata": {
        "colab": {
          "base_uri": "https://localhost:8080/"
        },
        "id": "W0lBVkn-EYdu",
        "outputId": "0348f321-21e2-4aea-908a-2c26c75c2358"
      },
      "execution_count": 78,
      "outputs": [
        {
          "output_type": "stream",
          "name": "stdout",
          "text": [
            "[['1' '2' '3']\n",
            " ['-1' '-2' '-3']\n",
            " ['8' '9' '10']]\n"
          ]
        }
      ]
    },
    {
      "cell_type": "markdown",
      "source": [
        "Grabar y cargar ficheros de textos\n"
      ],
      "metadata": {
        "id": "hkdeDviCE5Pr"
      }
    },
    {
      "cell_type": "code",
      "source": [
        "#grabar el fichero\n",
        "np.savetxt('hola mundo.txt', array_2d,delimiter=\" \")"
      ],
      "metadata": {
        "id": "SShawiGxE9AL"
      },
      "execution_count": 89,
      "outputs": []
    },
    {
      "cell_type": "code",
      "source": [
        "#cargar el fichero hola mundo\n",
        "np.loadtxt('hola mundo.txt')"
      ],
      "metadata": {
        "colab": {
          "base_uri": "https://localhost:8080/"
        },
        "id": "d-OI7cOUGJIU",
        "outputId": "c5d6b200-9578-4ecb-f961-6e8d2f531bbb"
      },
      "execution_count": 90,
      "outputs": [
        {
          "output_type": "execute_result",
          "data": {
            "text/plain": [
              "array([[  1.,   2.,   3.,   4.,   5.,   6.,   7.,   8.,   9.,  10.],\n",
              "       [ -1.,  -2.,  -3.,  -4.,  -5.,  -6.,  -7.,  -8.,  -9., -10.]])"
            ]
          },
          "metadata": {},
          "execution_count": 90
        }
      ]
    },
    {
      "cell_type": "markdown",
      "source": [
        "Ejercicios\n"
      ],
      "metadata": {
        "id": "iTIwnKqLH3sS"
      }
    },
    {
      "cell_type": "markdown",
      "source": [
        "Escribir un programa que almacene las asignaturas de un curso (por ejemplo Matemáticas, Física,\n",
        "Química, Historia y Lengua) en una lista y la muestre por pantalla."
      ],
      "metadata": {
        "id": "Uo8BDqkMH5ur"
      }
    },
    {
      "cell_type": "code",
      "source": [
        "\n",
        "materias=np.array(['Matemárica','Física','Química','Historia','Lenguaje'])\n",
        "#guardar\n",
        "materias=np.save('ejer1',materias)\n"
      ],
      "metadata": {
        "id": "k3L9ibrFH-5j"
      },
      "execution_count": 92,
      "outputs": []
    },
    {
      "cell_type": "code",
      "source": [
        "np.load('ejer1.npy')"
      ],
      "metadata": {
        "colab": {
          "base_uri": "https://localhost:8080/"
        },
        "id": "0jr2KdiPI_l9",
        "outputId": "db6375e1-393a-4fb1-9f14-94109b08f80c"
      },
      "execution_count": 93,
      "outputs": [
        {
          "output_type": "execute_result",
          "data": {
            "text/plain": [
              "array(['Matemárica', 'Física', 'Química', 'Historia', 'Lenguaje'],\n",
              "      dtype='<U10')"
            ]
          },
          "metadata": {},
          "execution_count": 93
        }
      ]
    },
    {
      "cell_type": "markdown",
      "source": [
        "Ejercicio 2\n",
        "Escribir un programa que almacene las asignaturas de un curso (por ejemplo Matemáticas, Física,\n",
        "Química, Historia y Lengua) en una lista y la muestre por pantalla el mensaje Yo estudio\n",
        "<asignatura>, donde <asignatura> es cada una de las asignaturas de la lista."
      ],
      "metadata": {
        "id": "MOzRpbcYJOXE"
      }
    },
    {
      "cell_type": "markdown",
      "source": [],
      "metadata": {
        "id": "c5WsIvh9K5Jo"
      }
    },
    {
      "cell_type": "code",
      "source": [
        "cursos=np.array(['Matemárica','Física','Química','Historia','Lenguaje'])\n",
        "\n",
        "longitud = len(cursos)\n",
        "print(f\"La longitud de la lista es: {longitud}\")\n",
        "curso_estudio=[]\n",
        "for i in range(longitud):\n",
        "    mensaje = f\"Yo estudio: {cursos[i]}\"\n",
        "    print(mensaje)\n",
        "    curso_estudio.append(mensaje)\n",
        "\n",
        "\n",
        "\n",
        "\n",
        "#guardar\n",
        "cursos=np.save('ejer2',curso_estudio)\n",
        "\n"
      ],
      "metadata": {
        "colab": {
          "base_uri": "https://localhost:8080/"
        },
        "id": "lqeWXQx6JR_8",
        "outputId": "92e4e898-3e25-4842-fc20-f62a8870c594"
      },
      "execution_count": 128,
      "outputs": [
        {
          "output_type": "stream",
          "name": "stdout",
          "text": [
            "La longitud de la lista es: 5\n",
            "Yo estudio: Matemárica\n",
            "Yo estudio: Física\n",
            "Yo estudio: Química\n",
            "Yo estudio: Historia\n",
            "Yo estudio: Lenguaje\n"
          ]
        }
      ]
    },
    {
      "cell_type": "code",
      "source": [
        "np.load('ejer2.npy')"
      ],
      "metadata": {
        "colab": {
          "base_uri": "https://localhost:8080/"
        },
        "id": "ZjeRfFoaP-vt",
        "outputId": "3e012d70-8ced-41f3-fcb9-0d7bde65994a"
      },
      "execution_count": 129,
      "outputs": [
        {
          "output_type": "execute_result",
          "data": {
            "text/plain": [
              "array(['Yo estudio: Matemárica', 'Yo estudio: Física',\n",
              "       'Yo estudio: Química', 'Yo estudio: Historia',\n",
              "       'Yo estudio: Lenguaje'], dtype='<U22')"
            ]
          },
          "metadata": {},
          "execution_count": 129
        }
      ]
    },
    {
      "cell_type": "markdown",
      "source": [
        "Ejercicio 3\n",
        "Escribir un programa que almacene las asignaturas de un curso (por ejemplo Matemáticas, Física,\n",
        "Química, Historia y Lengua) en una lista, pregunte al usuario la nota que ha sacado en cada\n",
        "asignatura, y después las muestre por pantalla con el mensaje En 'asignatura' has sacado 'nota'\n",
        "donde 'asignatura' es cada una des las asignaturas de la lista y 'nota' cada una de las\n",
        "correspondientes notas introducidas por el usuario."
      ],
      "metadata": {
        "id": "nq8PdkBbQDZK"
      }
    },
    {
      "cell_type": "code",
      "source": [
        "\n",
        "cursos = np.array(['Matemática', 'Física', 'Química', 'Historia', 'Lenguaje'])\n",
        "\n",
        "longitud = len(cursos)\n",
        "notas = []\n",
        "curso_nota = []\n",
        "\n",
        "for i in range(longitud):\n",
        "    mensaje = input(f\"Nota en {cursos[i]}: \")\n",
        "    notas.append(mensaje)\n",
        "\n",
        "for j in range(longitud):\n",
        "    notas_texto = f\"En {cursos[j]} sacaste : {notas[j]}\"\n",
        "    curso_nota.append(notas_texto)\n",
        "\n",
        "#guardar\n",
        "cursos=np.save('ejer3',curso_nota)\n"
      ],
      "metadata": {
        "colab": {
          "base_uri": "https://localhost:8080/"
        },
        "id": "o5jp7OTeQSal",
        "outputId": "cbf41224-f1fa-48e1-bbe1-adfcf58dcc44"
      },
      "execution_count": 149,
      "outputs": [
        {
          "name": "stdout",
          "output_type": "stream",
          "text": [
            "Nota en Matemática: 4\n",
            "Nota en Física: 5\n",
            "Nota en Química: 6\n",
            "Nota en Historia: 2\n",
            "Nota en Lenguaje: 1\n"
          ]
        }
      ]
    },
    {
      "cell_type": "code",
      "source": [
        "#cargar\n",
        "np.load('ejer3.npy')"
      ],
      "metadata": {
        "colab": {
          "base_uri": "https://localhost:8080/"
        },
        "id": "Pu3oRettRNrr",
        "outputId": "ea90b63c-2c09-4a9d-96e3-08c9455dddb0"
      },
      "execution_count": 150,
      "outputs": [
        {
          "output_type": "execute_result",
          "data": {
            "text/plain": [
              "array(['En Matemática sacaste : 4', 'En Física sacaste : 5',\n",
              "       'En Química sacaste : 6', 'En Historia sacaste : 2',\n",
              "       'En Lenguaje sacaste : 1'], dtype='<U25')"
            ]
          },
          "metadata": {},
          "execution_count": 150
        }
      ]
    },
    {
      "cell_type": "markdown",
      "source": [
        "Ejercicio 4\n",
        "Escribir un programa que pregunte al usuario los números ganadores de la lotería primitiva, los\n",
        "almacene en una lista y los muestre por pantalla ordenados de menor a mayor."
      ],
      "metadata": {
        "id": "QHUA8c_8VL4q"
      }
    },
    {
      "cell_type": "code",
      "source": [
        "numeros_ganadores = []\n",
        "print(\"Introduce los números ganadores de la lotería primitiva:\")\n",
        "\n",
        "for i in range(6):\n",
        "    while True:\n",
        "            num = int(input(f\"Número {i+1}: \"))\n",
        "            if num < 1 or num > 50:\n",
        "                print(\"Por favor, introduce un número entre 1 y 49.\")\n",
        "            else:\n",
        "                numeros_ganadores.append(num)\n",
        "                break\n",
        "\n",
        "\n",
        "# Ordenar la lista de menor a mayor\n",
        "numeros_ganadores.sort()\n",
        "print(numeros_ganadores)\n",
        "#guardar\n",
        "loteria=np.save('ejer4',numeros_ganadores)\n"
      ],
      "metadata": {
        "colab": {
          "base_uri": "https://localhost:8080/"
        },
        "id": "CbXAm8VyVO_7",
        "outputId": "7e3edb88-6d2e-4cb4-c1a0-2ba78545f7ea"
      },
      "execution_count": 157,
      "outputs": [
        {
          "output_type": "stream",
          "name": "stdout",
          "text": [
            "Introduce los números ganadores de la lotería primitiva:\n",
            "Número 1: 5\n",
            "Número 2: 6\n",
            "Número 3: 4\n",
            "Número 4: 2\n",
            "Número 5: 3\n",
            "Número 6: 1\n",
            "[1, 2, 3, 4, 5, 6]\n"
          ]
        }
      ]
    },
    {
      "cell_type": "code",
      "source": [
        "#cargar\n",
        "np.load('ejer4.npy')"
      ],
      "metadata": {
        "colab": {
          "base_uri": "https://localhost:8080/"
        },
        "id": "xVWh_gfpWhPc",
        "outputId": "fb000e53-a224-4198-979f-aa4af1f141a4"
      },
      "execution_count": 158,
      "outputs": [
        {
          "output_type": "execute_result",
          "data": {
            "text/plain": [
              "array([1, 2, 3, 4, 5, 6])"
            ]
          },
          "metadata": {},
          "execution_count": 158
        }
      ]
    },
    {
      "cell_type": "markdown",
      "source": [
        "Ejercicio 5\n",
        "Escribir un programa que almacene en una lista los números del 1 al 10 y los muestre por pantalla\n",
        "en orden inverso separados por comas.\n"
      ],
      "metadata": {
        "id": "BO0EZ4c3XEUD"
      }
    },
    {
      "cell_type": "code",
      "source": [
        "# Crear la lista con números del 1 al 10\n",
        "\n",
        "numeros =np.array(range(1, 11))\n",
        "\n",
        "numeros_invertidos=numeros[::-1]\n",
        "\n",
        "# Convertir los números a strings para unirlos con comas\n",
        "numeros_str = [str(num) for num in numeros_invertidos]\n",
        "\n",
        "# Mostrar los números separados por comas\n",
        "print(\", \".join(numeros_str))\n",
        "\n",
        "#guardar\n",
        "invertidos=np.save('ejer5',numeros_str)"
      ],
      "metadata": {
        "colab": {
          "base_uri": "https://localhost:8080/"
        },
        "id": "cWWezw5rXGcD",
        "outputId": "78e45e82-b6ab-409d-cbee-45d3ba6dfe18"
      },
      "execution_count": 175,
      "outputs": [
        {
          "output_type": "stream",
          "name": "stdout",
          "text": [
            "10, 9, 8, 7, 6, 5, 4, 3, 2, 1\n"
          ]
        }
      ]
    },
    {
      "cell_type": "code",
      "source": [
        "#cargar\n",
        "np.load('ejer5.npy')"
      ],
      "metadata": {
        "colab": {
          "base_uri": "https://localhost:8080/"
        },
        "id": "kLs6iONiZXED",
        "outputId": "43386dc0-85f1-4f68-9be2-8484bb7c6673"
      },
      "execution_count": 176,
      "outputs": [
        {
          "output_type": "execute_result",
          "data": {
            "text/plain": [
              "array(['10', '9', '8', '7', '6', '5', '4', '3', '2', '1'], dtype='<U2')"
            ]
          },
          "metadata": {},
          "execution_count": 176
        }
      ]
    },
    {
      "cell_type": "markdown",
      "source": [
        "Ejercicio 6\n",
        "Escribir un programa que almacene las asignaturas de un curso (por ejemplo Matemáticas, Física,\n",
        "Química, Historia y Lengua) en una lista, pregunte al usuario la nota que ha sacado en cada\n",
        "asignatura y elimine de la lista las asignaturas aprobadas. Al final el programa debe mostrar por\n",
        "pantalla las asignaturas que el usuario tiene que repetir.\n"
      ],
      "metadata": {
        "id": "1a3180puaRnj"
      }
    },
    {
      "cell_type": "code",
      "source": [
        "asignaturas = [\"Matemáticas\", \"Física\", \"Química\", \"Historia\", \"Lengua\"]\n",
        "\n",
        "notas = []\n",
        "\n",
        "for i in asignaturas:\n",
        "    while True:\n",
        "            nota = float(input(f\"¿Qué nota has sacado en {i}? \"))\n",
        "            if 0 <= nota <= 20:\n",
        "              if 0 <= nota <= 10:\n",
        "                  notas.append(nota)\n",
        "              break\n",
        "\n",
        "# Mostrar las asignaturas que hay que repetir\n",
        "if notas:\n",
        "    print(\"\\nDebes repetir las siguientes asignaturas:\")\n",
        "    for asignatura in notas:\n",
        "\n",
        "        print(asignatura)\n"
      ],
      "metadata": {
        "colab": {
          "base_uri": "https://localhost:8080/"
        },
        "id": "IeJzy_lqaUz1",
        "outputId": "53ff3295-e923-428d-80a7-22456125c617"
      },
      "execution_count": 179,
      "outputs": [
        {
          "output_type": "stream",
          "name": "stdout",
          "text": [
            "¿Qué nota has sacado en Matemáticas? 12\n",
            "¿Qué nota has sacado en Física? 15\n",
            "¿Qué nota has sacado en Química? 2\n",
            "¿Qué nota has sacado en Historia? 5\n",
            "¿Qué nota has sacado en Lengua? 6\n",
            "\n",
            "Debes repetir las siguientes asignaturas:\n",
            "2.0\n",
            "5.0\n",
            "6.0\n"
          ]
        }
      ]
    }
  ]
}